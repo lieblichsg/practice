{
 "cells": [
  {
   "cell_type": "markdown",
   "id": "6d6c801f",
   "metadata": {},
   "source": [
    "# 뉴스 기사 요약해보기\n",
    "## 추출적 요약 / 추상적 요약"
   ]
  },
  {
   "cell_type": "code",
   "execution_count": 1,
   "id": "4b73027b",
   "metadata": {},
   "outputs": [
    {
     "name": "stderr",
     "output_type": "stream",
     "text": [
      "[nltk_data] Downloading package stopwords to /aiffel/nltk_data...\n",
      "[nltk_data]   Unzipping corpora/stopwords.zip.\n"
     ]
    },
    {
     "name": "stdout",
     "output_type": "stream",
     "text": [
      "3.6.5\n",
      "2.6.0\n",
      "1.2.0\n"
     ]
    }
   ],
   "source": [
    "import nltk\n",
    "nltk.download('stopwords')\n",
    "\n",
    "import numpy as np\n",
    "import pandas as pd\n",
    "import os\n",
    "import re\n",
    "import matplotlib.pyplot as plt\n",
    "from importlib.metadata import version\n",
    "from nltk.corpus import stopwords\n",
    "from bs4 import BeautifulSoup \n",
    "from tensorflow.keras.preprocessing.text import Tokenizer \n",
    "from tensorflow.keras.preprocessing.sequence import pad_sequences\n",
    "import urllib.request\n",
    "import warnings\n",
    "import tensorflow\n",
    "import summa\n",
    "warnings.filterwarnings(\"ignore\", category=UserWarning, module='bs4')\n",
    "print(nltk.__version__)\n",
    "print(tensorflow.__version__)\n",
    "print(version('summa'))"
   ]
  },
  {
   "cell_type": "markdown",
   "id": "5dce9d00",
   "metadata": {},
   "source": [
    "데이터 다운로드"
   ]
  },
  {
   "cell_type": "code",
   "execution_count": 2,
   "id": "3178a98f",
   "metadata": {},
   "outputs": [],
   "source": [
    "import urllib.request\n",
    "urllib.request.urlretrieve(\"https://raw.githubusercontent.com/sunnysai12345/News_Summary/master/news_summary_more.csv\", filename=\"news_summary_more.csv\")\n",
    "data = pd.read_csv('news_summary_more.csv', encoding='iso-8859-1')"
   ]
  },
  {
   "cell_type": "code",
   "execution_count": 3,
   "id": "fefbcc42",
   "metadata": {},
   "outputs": [
    {
     "name": "stdout",
     "output_type": "stream",
     "text": [
      "<class 'pandas.core.frame.DataFrame'>\n",
      "RangeIndex: 98401 entries, 0 to 98400\n",
      "Data columns (total 2 columns):\n",
      " #   Column     Non-Null Count  Dtype \n",
      "---  ------     --------------  ----- \n",
      " 0   headlines  98401 non-null  object\n",
      " 1   text       98401 non-null  object\n",
      "dtypes: object(2)\n",
      "memory usage: 1.5+ MB\n",
      "None\n"
     ]
    },
    {
     "data": {
      "text/html": [
       "<div>\n",
       "<style scoped>\n",
       "    .dataframe tbody tr th:only-of-type {\n",
       "        vertical-align: middle;\n",
       "    }\n",
       "\n",
       "    .dataframe tbody tr th {\n",
       "        vertical-align: top;\n",
       "    }\n",
       "\n",
       "    .dataframe thead th {\n",
       "        text-align: right;\n",
       "    }\n",
       "</style>\n",
       "<table border=\"1\" class=\"dataframe\">\n",
       "  <thead>\n",
       "    <tr style=\"text-align: right;\">\n",
       "      <th></th>\n",
       "      <th>headlines</th>\n",
       "      <th>text</th>\n",
       "    </tr>\n",
       "  </thead>\n",
       "  <tbody>\n",
       "    <tr>\n",
       "      <th>94743</th>\n",
       "      <td>South Africa lifts ban on domestic rhino horn ...</td>\n",
       "      <td>South Africa's Constitutional Court has dismis...</td>\n",
       "    </tr>\n",
       "    <tr>\n",
       "      <th>54277</th>\n",
       "      <td>2018 mein bhi gaaliyan khaani hain: SRK to Rai...</td>\n",
       "      <td>Actor Shah Rukh Khan, while addressing his upc...</td>\n",
       "    </tr>\n",
       "    <tr>\n",
       "      <th>63718</th>\n",
       "      <td>Photo of missing J&amp;K cop holding an AK-47 surf...</td>\n",
       "      <td>A photo of a missing Jammu and Kashmir police ...</td>\n",
       "    </tr>\n",
       "    <tr>\n",
       "      <th>8572</th>\n",
       "      <td>SL bowler delivers 12 no-balls in 1 session, u...</td>\n",
       "      <td>As many as 12 out of 30 deliveries that Sri La...</td>\n",
       "    </tr>\n",
       "    <tr>\n",
       "      <th>5984</th>\n",
       "      <td>Lyon takes 5-for, Kohli hits 25th Test ton as ...</td>\n",
       "      <td>Australia ended the third day of the second Te...</td>\n",
       "    </tr>\n",
       "    <tr>\n",
       "      <th>38848</th>\n",
       "      <td>5-yr-old stepchild testifies, man gets life te...</td>\n",
       "      <td>The Delhi High Court upheld a man's life sente...</td>\n",
       "    </tr>\n",
       "    <tr>\n",
       "      <th>8525</th>\n",
       "      <td>Muslim sisters meet Sikh brother for 1st time ...</td>\n",
       "      <td>Two Muslim sisters and their Sikh brother, who...</td>\n",
       "    </tr>\n",
       "    <tr>\n",
       "      <th>97588</th>\n",
       "      <td>I have faced sexual harassment at work: Twinkl...</td>\n",
       "      <td>Twinkle Khanna revealed that she has faced sex...</td>\n",
       "    </tr>\n",
       "    <tr>\n",
       "      <th>32040</th>\n",
       "      <td>Berlin plans to reduce crayfish population by ...</td>\n",
       "      <td>German capital Berlin is planning to reduce th...</td>\n",
       "    </tr>\n",
       "    <tr>\n",
       "      <th>22443</th>\n",
       "      <td>Ex-400m hurdles world champ dies in car crash ...</td>\n",
       "      <td>Nicholas Bett, the former 400m hurdles world c...</td>\n",
       "    </tr>\n",
       "  </tbody>\n",
       "</table>\n",
       "</div>"
      ],
      "text/plain": [
       "                                               headlines  \\\n",
       "94743  South Africa lifts ban on domestic rhino horn ...   \n",
       "54277  2018 mein bhi gaaliyan khaani hain: SRK to Rai...   \n",
       "63718  Photo of missing J&K cop holding an AK-47 surf...   \n",
       "8572   SL bowler delivers 12 no-balls in 1 session, u...   \n",
       "5984   Lyon takes 5-for, Kohli hits 25th Test ton as ...   \n",
       "38848  5-yr-old stepchild testifies, man gets life te...   \n",
       "8525   Muslim sisters meet Sikh brother for 1st time ...   \n",
       "97588  I have faced sexual harassment at work: Twinkl...   \n",
       "32040  Berlin plans to reduce crayfish population by ...   \n",
       "22443  Ex-400m hurdles world champ dies in car crash ...   \n",
       "\n",
       "                                                    text  \n",
       "94743  South Africa's Constitutional Court has dismis...  \n",
       "54277  Actor Shah Rukh Khan, while addressing his upc...  \n",
       "63718  A photo of a missing Jammu and Kashmir police ...  \n",
       "8572   As many as 12 out of 30 deliveries that Sri La...  \n",
       "5984   Australia ended the third day of the second Te...  \n",
       "38848  The Delhi High Court upheld a man's life sente...  \n",
       "8525   Two Muslim sisters and their Sikh brother, who...  \n",
       "97588  Twinkle Khanna revealed that she has faced sex...  \n",
       "32040  German capital Berlin is planning to reduce th...  \n",
       "22443  Nicholas Bett, the former 400m hurdles world c...  "
      ]
     },
     "execution_count": 3,
     "metadata": {},
     "output_type": "execute_result"
    }
   ],
   "source": [
    "print(data.info())\n",
    "data.sample(10)"
   ]
  },
  {
   "cell_type": "markdown",
   "id": "bc9fdc17",
   "metadata": {},
   "source": [
    "text 컬럼이 input이 되고 headlines 컬럼이 target이 될 듯 하다"
   ]
  },
  {
   "cell_type": "markdown",
   "id": "9943c2d2",
   "metadata": {},
   "source": [
    "## 데이터 전처리\n",
    "### 중복, 결측치 제거\n",
    "중복 샘플 상태 확인"
   ]
  },
  {
   "cell_type": "code",
   "execution_count": 4,
   "id": "f00eb612",
   "metadata": {},
   "outputs": [
    {
     "name": "stdout",
     "output_type": "stream",
     "text": [
      "text 중복 제외 :  98360\n",
      "headlines 중복 제외 :  98280\n"
     ]
    }
   ],
   "source": [
    "print('text 중복 제외 : ', data['text'].nunique())\n",
    "print('headlines 중복 제외 : ', data['headlines'].nunique())"
   ]
  },
  {
   "cell_type": "markdown",
   "id": "7aecfbb4",
   "metadata": {},
   "source": [
    "drop_duplicates()를 사용하여 중복 샘플을 제거"
   ]
  },
  {
   "cell_type": "code",
   "execution_count": 5,
   "id": "931ed9b0",
   "metadata": {},
   "outputs": [
    {
     "data": {
      "text/plain": [
       "98360"
      ]
     },
     "execution_count": 5,
     "metadata": {},
     "output_type": "execute_result"
    }
   ],
   "source": [
    "data.drop_duplicates(subset=['text'], inplace=True)\n",
    "len(data)"
   ]
  },
  {
   "cell_type": "markdown",
   "id": "09daa4ae",
   "metadata": {},
   "source": [
    "결측치 확인(없음)"
   ]
  },
  {
   "cell_type": "code",
   "execution_count": 6,
   "id": "d2d9f2a7",
   "metadata": {},
   "outputs": [
    {
     "data": {
      "text/plain": [
       "headlines    0\n",
       "text         0\n",
       "dtype: int64"
      ]
     },
     "execution_count": 6,
     "metadata": {},
     "output_type": "execute_result"
    }
   ],
   "source": [
    "data.isnull().sum()"
   ]
  },
  {
   "cell_type": "markdown",
   "id": "7642183c",
   "metadata": {},
   "source": [
    "### 텍스트 정규화와 불용어 제거\n",
    "같은 뜻이지만 다르게 쓰이는 경우  \n",
    "i am = i'm과 같이 같은 표현을 같은 단어로 간주하게하여 모델의 연산량 증가를 막는 과정  \n",
    "EXP 12에서 쓰인 정규화 사전 및 불용어 리스트를 사용  \n",
    "(참고링크 : https://stackoverflow.com/questions/19790188/expanding-english-language-contractions-in-python)"
   ]
  },
  {
   "cell_type": "code",
   "execution_count": 7,
   "id": "e698e1a3",
   "metadata": {},
   "outputs": [
    {
     "name": "stdout",
     "output_type": "stream",
     "text": [
      "정규화 사전의 수:  120\n"
     ]
    }
   ],
   "source": [
    "contractions = {\"ain't\": \"is not\", \"aren't\": \"are not\",\"can't\": \"cannot\", \"'cause\": \"because\", \"could've\": \"could have\", \"couldn't\": \"could not\",\n",
    "                           \"didn't\": \"did not\",  \"doesn't\": \"does not\", \"don't\": \"do not\", \"hadn't\": \"had not\", \"hasn't\": \"has not\", \"haven't\": \"have not\",\n",
    "                           \"he'd\": \"he would\",\"he'll\": \"he will\", \"he's\": \"he is\", \"how'd\": \"how did\", \"how'd'y\": \"how do you\", \"how'll\": \"how will\", \"how's\": \"how is\",\n",
    "                           \"I'd\": \"I would\", \"I'd've\": \"I would have\", \"I'll\": \"I will\", \"I'll've\": \"I will have\",\"I'm\": \"I am\", \"I've\": \"I have\", \"i'd\": \"i would\",\n",
    "                           \"i'd've\": \"i would have\", \"i'll\": \"i will\",  \"i'll've\": \"i will have\",\"i'm\": \"i am\", \"i've\": \"i have\", \"isn't\": \"is not\", \"it'd\": \"it would\",\n",
    "                           \"it'd've\": \"it would have\", \"it'll\": \"it will\", \"it'll've\": \"it will have\",\"it's\": \"it is\", \"let's\": \"let us\", \"ma'am\": \"madam\",\n",
    "                           \"mayn't\": \"may not\", \"might've\": \"might have\",\"mightn't\": \"might not\",\"mightn't've\": \"might not have\", \"must've\": \"must have\",\n",
    "                           \"mustn't\": \"must not\", \"mustn't've\": \"must not have\", \"needn't\": \"need not\", \"needn't've\": \"need not have\",\"o'clock\": \"of the clock\",\n",
    "                           \"oughtn't\": \"ought not\", \"oughtn't've\": \"ought not have\", \"shan't\": \"shall not\", \"sha'n't\": \"shall not\", \"shan't've\": \"shall not have\",\n",
    "                           \"she'd\": \"she would\", \"she'd've\": \"she would have\", \"she'll\": \"she will\", \"she'll've\": \"she will have\", \"she's\": \"she is\",\n",
    "                           \"should've\": \"should have\", \"shouldn't\": \"should not\", \"shouldn't've\": \"should not have\", \"so've\": \"so have\",\"so's\": \"so as\",\n",
    "                           \"this's\": \"this is\",\"that'd\": \"that would\", \"that'd've\": \"that would have\", \"that's\": \"that is\", \"there'd\": \"there would\",\n",
    "                           \"there'd've\": \"there would have\", \"there's\": \"there is\", \"here's\": \"here is\",\"they'd\": \"they would\", \"they'd've\": \"they would have\",\n",
    "                           \"they'll\": \"they will\", \"they'll've\": \"they will have\", \"they're\": \"they are\", \"they've\": \"they have\", \"to've\": \"to have\",\n",
    "                           \"wasn't\": \"was not\", \"we'd\": \"we would\", \"we'd've\": \"we would have\", \"we'll\": \"we will\", \"we'll've\": \"we will have\", \"we're\": \"we are\",\n",
    "                           \"we've\": \"we have\", \"weren't\": \"were not\", \"what'll\": \"what will\", \"what'll've\": \"what will have\", \"what're\": \"what are\",\n",
    "                           \"what's\": \"what is\", \"what've\": \"what have\", \"when's\": \"when is\", \"when've\": \"when have\", \"where'd\": \"where did\", \"where's\": \"where is\",\n",
    "                           \"where've\": \"where have\", \"who'll\": \"who will\", \"who'll've\": \"who will have\", \"who's\": \"who is\", \"who've\": \"who have\",\n",
    "                           \"why's\": \"why is\", \"why've\": \"why have\", \"will've\": \"will have\", \"won't\": \"will not\", \"won't've\": \"will not have\",\n",
    "                           \"would've\": \"would have\", \"wouldn't\": \"would not\", \"wouldn't've\": \"would not have\", \"y'all\": \"you all\",\n",
    "                           \"y'all'd\": \"you all would\",\"y'all'd've\": \"you all would have\",\"y'all're\": \"you all are\",\"y'all've\": \"you all have\",\n",
    "                           \"you'd\": \"you would\", \"you'd've\": \"you would have\", \"you'll\": \"you will\", \"you'll've\": \"you will have\",\n",
    "                           \"you're\": \"you are\", \"you've\": \"you have\"}\n",
    "\n",
    "print(\"정규화 사전의 수: \", len(contractions))"
   ]
  },
  {
   "cell_type": "code",
   "execution_count": 8,
   "id": "f3fa8f3c",
   "metadata": {},
   "outputs": [
    {
     "name": "stdout",
     "output_type": "stream",
     "text": [
      "불용어 : 179 개\n",
      "['i', 'me', 'my', 'myself', 'we', 'our', 'ours', 'ourselves', 'you', \"you're\", \"you've\", \"you'll\", \"you'd\", 'your', 'yours', 'yourself', 'yourselves', 'he', 'him', 'his', 'himself', 'she', \"she's\", 'her', 'hers', 'herself', 'it', \"it's\", 'its', 'itself', 'they', 'them', 'their', 'theirs', 'themselves', 'what', 'which', 'who', 'whom', 'this', 'that', \"that'll\", 'these', 'those', 'am', 'is', 'are', 'was', 'were', 'be', 'been', 'being', 'have', 'has', 'had', 'having', 'do', 'does', 'did', 'doing', 'a', 'an', 'the', 'and', 'but', 'if', 'or', 'because', 'as', 'until', 'while', 'of', 'at', 'by', 'for', 'with', 'about', 'against', 'between', 'into', 'through', 'during', 'before', 'after', 'above', 'below', 'to', 'from', 'up', 'down', 'in', 'out', 'on', 'off', 'over', 'under', 'again', 'further', 'then', 'once', 'here', 'there', 'when', 'where', 'why', 'how', 'all', 'any', 'both', 'each', 'few', 'more', 'most', 'other', 'some', 'such', 'no', 'nor', 'not', 'only', 'own', 'same', 'so', 'than', 'too', 'very', 's', 't', 'can', 'will', 'just', 'don', \"don't\", 'should', \"should've\", 'now', 'd', 'll', 'm', 'o', 're', 've', 'y', 'ain', 'aren', \"aren't\", 'couldn', \"couldn't\", 'didn', \"didn't\", 'doesn', \"doesn't\", 'hadn', \"hadn't\", 'hasn', \"hasn't\", 'haven', \"haven't\", 'isn', \"isn't\", 'ma', 'mightn', \"mightn't\", 'mustn', \"mustn't\", 'needn', \"needn't\", 'shan', \"shan't\", 'shouldn', \"shouldn't\", 'wasn', \"wasn't\", 'weren', \"weren't\", 'won', \"won't\", 'wouldn', \"wouldn't\"]\n"
     ]
    }
   ],
   "source": [
    "print('불용어 :', len(stopwords.words('english')), '개' )\n",
    "print(stopwords.words('english'))"
   ]
  },
  {
   "cell_type": "markdown",
   "id": "d2483c03",
   "metadata": {},
   "source": [
    "함수를 통해 알파벳 소문자화, 특수문자 제거, 불용어 제거 등 전처리"
   ]
  },
  {
   "cell_type": "code",
   "execution_count": 9,
   "id": "0be69f54",
   "metadata": {},
   "outputs": [],
   "source": [
    "def preprocess_sentence(sentence, remove_stopwords=True):\n",
    "    sentence = sentence.lower()\n",
    "    sentence = re.sub(r'\\([^)]*\\)', '', sentence) # 괄호로 닫힌 문자열 (...) 제거 Ex) my husband (and myself!) for => my husband for\n",
    "    sentence = re.sub('\"','', sentence) # 쌍따옴표 \" 제거\n",
    "    sentence = ' '.join([contractions[t] if t in contractions else t for t in sentence.split(\" \")]) # 약어 정규화\n",
    "    sentence = re.sub(r\"'s\\b\",\"\", sentence) # 소유격 제거. Ex) roland's -> roland\n",
    "    sentence = re.sub(\"[^a-zA-Z]\", \" \", sentence) # 영어 외 문자(숫자, 특수문자 등) 공백으로 변환\n",
    "    sentence = re.sub('[m]{2,}', 'mm', sentence) # m이 3개 이상이면 2개로 변경. Ex) ummmmmmm yeah -> umm yeah\n",
    "    \n",
    "    # 불용어 제거 (Text)\n",
    "    if remove_stopwords:\n",
    "        tokens = ' '.join(word for word in sentence.split() if not word in stopwords.words('english') if len(word) > 1)\n",
    "    # 불용어 미제거 (Summary)\n",
    "    else:\n",
    "        tokens = ' '.join(word for word in sentence.split() if len(word) > 1)\n",
    "    return tokens"
   ]
  },
  {
   "cell_type": "code",
   "execution_count": 10,
   "id": "5c7174b6",
   "metadata": {},
   "outputs": [
    {
     "name": "stdout",
     "output_type": "stream",
     "text": [
      "text 전처리 후 결과:  ['saurav kant alumnus upgrad iiit pg program machine learning artificial intelligence sr systems engineer infosys almost years work experience program upgrad degree career support helped transition data scientist tech mahindra salary hike upgrad online power learning powered lakh careers', 'kunal shah credit card bill payment platform cred gave users chance win free food swiggy one year pranav kaushik delhi techie bagged reward spending cred coins users get one cred coin per rupee bill paid used avail rewards brands like ixigo bookmyshow ubereats cult fit', 'new zealand defeated india wickets fourth odi hamilton thursday win first match five match odi series india lost international match rohit sharma captaincy consecutive victories dating back march match witnessed india getting seventh lowest total odi cricket history', 'aegon life iterm insurance plan customers enjoy tax benefits premiums paid save taxes plan provides life cover age years also customers options insure critical illnesses disability accidental death benefit rider life cover age years', 'speaking sexual harassment allegations rajkumar hirani sonam kapoor said known hirani many years true metoo movement get derailed metoo movement always believe woman case need reserve judgment added hirani accused assistant worked sanju']\n"
     ]
    }
   ],
   "source": [
    "clean_text = []\n",
    "# 전체 Text 데이터에 대한 전처리 : 10분 이상 시간이 걸릴 수 있습니다. \n",
    "for s in data['text']:\n",
    "    clean_text.append(preprocess_sentence(s))\n",
    "\n",
    "# 전처리 후 출력\n",
    "print(\"text 전처리 후 결과: \", clean_text[:5])"
   ]
  },
  {
   "cell_type": "code",
   "execution_count": 11,
   "id": "dbc278ca",
   "metadata": {},
   "outputs": [
    {
     "name": "stdout",
     "output_type": "stream",
     "text": [
      "headline 전처리 후 결과:  ['upgrad learner switches to career in ml al with salary hike', 'delhi techie wins free food from swiggy for one year on cred', 'new zealand end rohit sharma led india match winning streak', 'aegon life iterm insurance plan helps customers save tax', 'have known hirani for yrs what if metoo claims are not true sonam']\n"
     ]
    }
   ],
   "source": [
    "clean_headline = []\n",
    "# 전체 headlines 데이터에 대한 전처리 : 5분 이상 시간이 걸릴 수 있습니다. \n",
    "for s in data['headlines']:\n",
    "    clean_headline.append(preprocess_sentence(s, False))\n",
    "\n",
    "print(\"headline 전처리 후 결과: \", clean_headline[:5])"
   ]
  },
  {
   "cell_type": "markdown",
   "id": "226a1271",
   "metadata": {},
   "source": [
    "전처리 된 데이터를 원본 데이터에 덮어씌우기"
   ]
  },
  {
   "cell_type": "code",
   "execution_count": 12,
   "id": "cdffb368",
   "metadata": {},
   "outputs": [],
   "source": [
    "data['text'] = clean_text\n",
    "data['headlines'] = clean_headline"
   ]
  },
  {
   "cell_type": "code",
   "execution_count": 13,
   "id": "805bff7c",
   "metadata": {},
   "outputs": [],
   "source": [
    "# 빈 값을 Null 값으로 변환\n",
    "data.replace('', np.nan, inplace=True)"
   ]
  },
  {
   "cell_type": "code",
   "execution_count": 14,
   "id": "a7969c50",
   "metadata": {},
   "outputs": [
    {
     "data": {
      "text/plain": [
       "headlines    0\n",
       "text         0\n",
       "dtype: int64"
      ]
     },
     "execution_count": 14,
     "metadata": {},
     "output_type": "execute_result"
    }
   ],
   "source": [
    "data.isnull().sum()"
   ]
  },
  {
   "cell_type": "markdown",
   "id": "58d6f79d",
   "metadata": {},
   "source": [
    "## 훈련 데이터, 테스트 데이터 나누기\n",
    "그 전 전처리된 데이터의 상태를 확인하고,  \n",
    "필요한 범위 내의 데이터만 사용할 수 있도록 정리한다."
   ]
  },
  {
   "cell_type": "code",
   "execution_count": 15,
   "id": "57270bf3",
   "metadata": {},
   "outputs": [
    {
     "name": "stdout",
     "output_type": "stream",
     "text": [
      "텍스트의 최소 길이 : 1\n",
      "텍스트의 최대 길이 : 60\n",
      "텍스트의 평균 길이 : 35.09968483123221\n",
      "헤드라인의 최소 길이 : 1\n",
      "헤드라인의 최대 길이 : 16\n",
      "헤드라인의 평균 길이 : 9.299532330215534\n"
     ]
    }
   ],
   "source": [
    "text_len = [len(s.split()) for s in data['text']]\n",
    "headline_len = [len(s.split()) for s in data['headlines']]\n",
    "\n",
    "print('텍스트의 최소 길이 : {}'.format(np.min(text_len)))\n",
    "print('텍스트의 최대 길이 : {}'.format(np.max(text_len)))\n",
    "print('텍스트의 평균 길이 : {}'.format(np.mean(text_len)))\n",
    "print('헤드라인의 최소 길이 : {}'.format(np.min(headline_len)))\n",
    "print('헤드라인의 최대 길이 : {}'.format(np.max(headline_len)))\n",
    "print('헤드라인의 평균 길이 : {}'.format(np.mean(headline_len)))\n"
   ]
  },
  {
   "cell_type": "code",
   "execution_count": 16,
   "id": "8089bfab",
   "metadata": {},
   "outputs": [
    {
     "data": {
      "image/png": "[encoded data removed]",
      "text/plain": [
       "<Figure size 432x288 with 2 Axes>"
      ]
     },
     "metadata": {
      "needs_background": "light"
     },
     "output_type": "display_data"
    },
    {
     "data": {
      "image/png": "[encoded data removed]",
      "text/plain": [
       "<Figure size 432x288 with 1 Axes>"
      ]
     },
     "metadata": {
      "needs_background": "light"
     },
     "output_type": "display_data"
    },
    {
     "data": {
      "image/png": "[encoded data removed]",
      "text/plain": [
       "<Figure size 432x288 with 1 Axes>"
      ]
     },
     "metadata": {
      "needs_background": "light"
     },
     "output_type": "display_data"
    }
   ],
   "source": [
    "import matplotlib.pyplot as plt\n",
    "\n",
    "plt.subplot(1,2,1)\n",
    "plt.boxplot(text_len)\n",
    "plt.title('Text')\n",
    "plt.subplot(1,2,2)\n",
    "plt.boxplot(headline_len)\n",
    "plt.title('Headline')\n",
    "plt.tight_layout()\n",
    "plt.show()\n",
    "\n",
    "plt.title('Text')\n",
    "plt.hist(text_len, bins = 40)\n",
    "plt.xlabel('length of samples')\n",
    "plt.ylabel('number of samples')\n",
    "plt.show()\n",
    "\n",
    "plt.title('Headline')\n",
    "plt.hist(headline_len, bins = 40)\n",
    "plt.xlabel('length of samples')\n",
    "plt.ylabel('number of samples')\n",
    "plt.show()"
   ]
  },
  {
   "cell_type": "markdown",
   "id": "5db8f890",
   "metadata": {},
   "source": [
    "데이터의 분포가 고르게 되어있어 그대로 사용해도 될 듯 하다."
   ]
  },
  {
   "attachments": {
    "image.png": {
     "image/png": "[encoded data removed]"
    }
   },
   "cell_type": "markdown",
   "id": "205bfd0a",
   "metadata": {},
   "source": [
    "### 시작 토큰 sos와 종료 토큰 eos 추가하기\n",
    "![image.png](attachment:image.png)\n",
    "문장의 시작에 sos 토큰을, 문장의 끝에 eos 토큰을 각각 추가해준다.  \n",
    "decoder_input = 디코더 인풋으로 들어가며, 시작 토큰이 앞에 있는 문장  \n",
    "decoder_output = 디코더 출력에 해당되며, 종료 토큰이 뒤에 붙은 문장"
   ]
  },
  {
   "cell_type": "code",
   "execution_count": 17,
   "id": "a8d08477",
   "metadata": {},
   "outputs": [
    {
     "data": {
      "text/html": [
       "<div>\n",
       "<style scoped>\n",
       "    .dataframe tbody tr th:only-of-type {\n",
       "        vertical-align: middle;\n",
       "    }\n",
       "\n",
       "    .dataframe tbody tr th {\n",
       "        vertical-align: top;\n",
       "    }\n",
       "\n",
       "    .dataframe thead th {\n",
       "        text-align: right;\n",
       "    }\n",
       "</style>\n",
       "<table border=\"1\" class=\"dataframe\">\n",
       "  <thead>\n",
       "    <tr style=\"text-align: right;\">\n",
       "      <th></th>\n",
       "      <th>headlines</th>\n",
       "      <th>text</th>\n",
       "      <th>decoder_input</th>\n",
       "      <th>decoder_target</th>\n",
       "    </tr>\n",
       "  </thead>\n",
       "  <tbody>\n",
       "    <tr>\n",
       "      <th>0</th>\n",
       "      <td>upgrad learner switches to career in ml al wit...</td>\n",
       "      <td>saurav kant alumnus upgrad iiit pg program mac...</td>\n",
       "      <td>sostoken upgrad learner switches to career in ...</td>\n",
       "      <td>upgrad learner switches to career in ml al wit...</td>\n",
       "    </tr>\n",
       "    <tr>\n",
       "      <th>1</th>\n",
       "      <td>delhi techie wins free food from swiggy for on...</td>\n",
       "      <td>kunal shah credit card bill payment platform c...</td>\n",
       "      <td>sostoken delhi techie wins free food from swig...</td>\n",
       "      <td>delhi techie wins free food from swiggy for on...</td>\n",
       "    </tr>\n",
       "    <tr>\n",
       "      <th>2</th>\n",
       "      <td>new zealand end rohit sharma led india match w...</td>\n",
       "      <td>new zealand defeated india wickets fourth odi ...</td>\n",
       "      <td>sostoken new zealand end rohit sharma led indi...</td>\n",
       "      <td>new zealand end rohit sharma led india match w...</td>\n",
       "    </tr>\n",
       "    <tr>\n",
       "      <th>3</th>\n",
       "      <td>aegon life iterm insurance plan helps customer...</td>\n",
       "      <td>aegon life iterm insurance plan customers enjo...</td>\n",
       "      <td>sostoken aegon life iterm insurance plan helps...</td>\n",
       "      <td>aegon life iterm insurance plan helps customer...</td>\n",
       "    </tr>\n",
       "    <tr>\n",
       "      <th>4</th>\n",
       "      <td>have known hirani for yrs what if metoo claims...</td>\n",
       "      <td>speaking sexual harassment allegations rajkuma...</td>\n",
       "      <td>sostoken have known hirani for yrs what if met...</td>\n",
       "      <td>have known hirani for yrs what if metoo claims...</td>\n",
       "    </tr>\n",
       "  </tbody>\n",
       "</table>\n",
       "</div>"
      ],
      "text/plain": [
       "                                           headlines  \\\n",
       "0  upgrad learner switches to career in ml al wit...   \n",
       "1  delhi techie wins free food from swiggy for on...   \n",
       "2  new zealand end rohit sharma led india match w...   \n",
       "3  aegon life iterm insurance plan helps customer...   \n",
       "4  have known hirani for yrs what if metoo claims...   \n",
       "\n",
       "                                                text  \\\n",
       "0  saurav kant alumnus upgrad iiit pg program mac...   \n",
       "1  kunal shah credit card bill payment platform c...   \n",
       "2  new zealand defeated india wickets fourth odi ...   \n",
       "3  aegon life iterm insurance plan customers enjo...   \n",
       "4  speaking sexual harassment allegations rajkuma...   \n",
       "\n",
       "                                       decoder_input  \\\n",
       "0  sostoken upgrad learner switches to career in ...   \n",
       "1  sostoken delhi techie wins free food from swig...   \n",
       "2  sostoken new zealand end rohit sharma led indi...   \n",
       "3  sostoken aegon life iterm insurance plan helps...   \n",
       "4  sostoken have known hirani for yrs what if met...   \n",
       "\n",
       "                                      decoder_target  \n",
       "0  upgrad learner switches to career in ml al wit...  \n",
       "1  delhi techie wins free food from swiggy for on...  \n",
       "2  new zealand end rohit sharma led india match w...  \n",
       "3  aegon life iterm insurance plan helps customer...  \n",
       "4  have known hirani for yrs what if metoo claims...  "
      ]
     },
     "execution_count": 17,
     "metadata": {},
     "output_type": "execute_result"
    }
   ],
   "source": [
    "data['decoder_input'] = data['headlines'].apply(lambda x : 'sostoken '+ x)\n",
    "data['decoder_target'] = data['headlines'].apply(lambda x : x + ' eostoken')\n",
    "data.head()"
   ]
  },
  {
   "cell_type": "markdown",
   "id": "380ce9ce",
   "metadata": {},
   "source": [
    "다시 넘파이 타입으로 저장"
   ]
  },
  {
   "cell_type": "code",
   "execution_count": 18,
   "id": "421c06e6",
   "metadata": {},
   "outputs": [],
   "source": [
    "encoder_input = np.array(data['text'])            # 인코더의 입력\n",
    "decoder_input = np.array(data['decoder_input'])   # 디코더의 입력\n",
    "decoder_target = np.array(data['decoder_target']) # 디코더의 레이블"
   ]
  },
  {
   "cell_type": "markdown",
   "id": "a43c66a1",
   "metadata": {},
   "source": [
    "### 훈련, 테스트 데이터 나누기  \n",
    "분리 방법은 분리 패키지를 이용하는 방법이 편하지만,  \n",
    "직접 과정을 설계하는 방식으로 진행"
   ]
  },
  {
   "cell_type": "code",
   "execution_count": 19,
   "id": "a80454e2",
   "metadata": {},
   "outputs": [
    {
     "name": "stdout",
     "output_type": "stream",
     "text": [
      "[12272 97093 35746 ... 85185 81082 19811]\n"
     ]
    },
    {
     "data": {
      "text/plain": [
       "(98360, 98360)"
      ]
     },
     "execution_count": 19,
     "metadata": {},
     "output_type": "execute_result"
    }
   ],
   "source": [
    "# encoder_input과 크기와 형태가 같은 임의의 정수 시퀸스를 생성\n",
    "indices = np.arange(encoder_input.shape[0])\n",
    "np.random.shuffle(indices)\n",
    "print(indices)\n",
    "len(encoder_input), len(indices)"
   ]
  },
  {
   "cell_type": "markdown",
   "id": "8ec5f6c0",
   "metadata": {},
   "source": [
    "위의 난수를 이용하여 데이터 샘플의 순서를 섞어준다."
   ]
  },
  {
   "cell_type": "code",
   "execution_count": 20,
   "id": "dc52504b",
   "metadata": {},
   "outputs": [],
   "source": [
    "encoder_input = encoder_input[indices]\n",
    "decoder_input = decoder_input[indices]\n",
    "decoder_target = decoder_target[indices]"
   ]
  },
  {
   "cell_type": "markdown",
   "id": "9a6d12ce",
   "metadata": {},
   "source": [
    "다음으로 섞인 데이터를 8:2 비율로 분리  \n",
    "전체 길이에 0.2를 곱하여 테스트 데이터의 크기를 정의한다."
   ]
  },
  {
   "cell_type": "code",
   "execution_count": 21,
   "id": "1b123161",
   "metadata": {},
   "outputs": [
    {
     "name": "stdout",
     "output_type": "stream",
     "text": [
      "테스트 데이터 :  19672\n"
     ]
    }
   ],
   "source": [
    "n_of_val = int(len(encoder_input)*0.2)\n",
    "print('테스트 데이터 : ', n_of_val)"
   ]
  },
  {
   "cell_type": "markdown",
   "id": "a0700877",
   "metadata": {},
   "source": [
    "19672 라는 값을 이용해 슬라이싱으로 각각 나눈다."
   ]
  },
  {
   "cell_type": "code",
   "execution_count": 22,
   "id": "0a3fb157",
   "metadata": {},
   "outputs": [
    {
     "name": "stdout",
     "output_type": "stream",
     "text": [
      "훈련 데이터 : 78688\n",
      "훈련 레이블 : 78688\n",
      "테스트 데이터 : 19672\n",
      "테스트 레이블 : 19672\n"
     ]
    }
   ],
   "source": [
    "encoder_input_train = encoder_input[:-n_of_val]\n",
    "decoder_input_train = decoder_input[:-n_of_val]\n",
    "decoder_target_train = decoder_target[:-n_of_val]\n",
    "\n",
    "encoder_input_test = encoder_input[-n_of_val:]\n",
    "decoder_input_test = decoder_input[-n_of_val:]\n",
    "decoder_target_test = decoder_target[-n_of_val:]\n",
    "\n",
    "print('훈련 데이터 :', len(encoder_input_train))\n",
    "print('훈련 레이블 :', len(decoder_input_train))\n",
    "print('테스트 데이터 :', len(encoder_input_test))\n",
    "print('테스트 레이블 :', len(decoder_input_test))"
   ]
  },
  {
   "cell_type": "markdown",
   "id": "1fe794c6",
   "metadata": {},
   "source": [
    "train : test = 78688 : 19672 로 나누어졌다."
   ]
  },
  {
   "cell_type": "markdown",
   "id": "c8dbcd2c",
   "metadata": {},
   "source": [
    "### 단어 집합 (vocabulary) 만들기, 정수 인코딩\n",
    "모델이 학습할 수 있도록 단어를 모두 정수로 바꾸어주어야한다  \n",
    "단어와 고유한 정수를 맵핑하는 과정을 단어 집합을 만든다고 표현  \n",
    "keras의 토크나이저를 사용"
   ]
  },
  {
   "cell_type": "code",
   "execution_count": 23,
   "id": "84e29c3d",
   "metadata": {},
   "outputs": [],
   "source": [
    "src_tokenizer = Tokenizer() \n",
    "src_tokenizer.fit_on_texts(encoder_input_train) # 입력 데이터로 단어 집합 생성"
   ]
  },
  {
   "cell_type": "markdown",
   "id": "a65751a6",
   "metadata": {},
   "source": [
    "단어 집합은 src_tokenizer.word_index에 저장되었다  \n",
    "src_tokenizer.word_countx.items()에 각 단어와 단어의 등장 빈도수가 저장되어 통계적 정보를 얻을 수 있음"
   ]
  },
  {
   "cell_type": "code",
   "execution_count": 25,
   "id": "6411de15",
   "metadata": {},
   "outputs": [
    {
     "name": "stdout",
     "output_type": "stream",
     "text": [
      "단어 집합(vocabulary)의 크기 : 69531\n",
      "등장 빈도가 7번 이하인 희귀 단어의 수: 48871\n",
      "단어 집합에서 희귀 단어를 제외시킬 경우의 단어 집합의 크기 20660\n",
      "단어 집합에서 희귀 단어의 비율: 70.28663473846198\n",
      "전체 등장 빈도에서 희귀 단어 등장 빈도 비율: 3.854591547725609\n"
     ]
    }
   ],
   "source": [
    "threshold = 8\n",
    "total_cnt = len(src_tokenizer.word_index) # 단어의 수\n",
    "rare_cnt = 0 # 등장 빈도수가 threshold보다 작은 단어의 개수를 카운트\n",
    "total_freq = 0 # 훈련 데이터의 전체 단어 빈도수 총 합\n",
    "rare_freq = 0 # 등장 빈도수가 threshold보다 작은 단어의 등장 빈도수의 총 합\n",
    "\n",
    "# 단어와 빈도수의 쌍(pair)을 key와 value로 받는다.\n",
    "for key, value in src_tokenizer.word_counts.items():\n",
    "    total_freq = total_freq + value\n",
    "\n",
    "    # 단어의 등장 빈도수가 threshold보다 작으면\n",
    "    if(value < threshold):\n",
    "        rare_cnt = rare_cnt + 1\n",
    "        rare_freq = rare_freq + value\n",
    "\n",
    "print('단어 집합(vocabulary)의 크기 :', total_cnt)\n",
    "print('등장 빈도가 %s번 이하인 희귀 단어의 수: %s'%(threshold - 1, rare_cnt))\n",
    "print('단어 집합에서 희귀 단어를 제외시킬 경우의 단어 집합의 크기 %s'%(total_cnt - rare_cnt))\n",
    "print(\"단어 집합에서 희귀 단어의 비율:\", (rare_cnt / total_cnt)*100)\n",
    "print(\"전체 등장 빈도에서 희귀 단어 등장 빈도 비율:\", (rare_freq / total_freq)*100)"
   ]
  },
  {
   "cell_type": "markdown",
   "id": "3bdfa8b3",
   "metadata": {},
   "source": [
    "등장 빈도가 threshold값인 8보다 작은 단어들의 비율은 약 70%정도이다.  \n",
    "그러나 실제로 훈련 데이터에서의 등장 빈도의 비율은 약 3.9%로 매우 낮다.  \n",
    "등장 빈도가 낮은 단어들을 데이터에서 제외시킨 후 인코딩을 한다.  \n",
    "희귀 단어를 제외한 후 단어 집합 크기를 어림잡아 20000으로 생각하고  \n",
    "토크나이저 정의 시 num_words 값에 지정해주면 단어 집합 크기를 제한할 수 있다."
   ]
  },
  {
   "cell_type": "code",
   "execution_count": 26,
   "id": "9cca2941",
   "metadata": {},
   "outputs": [],
   "source": [
    "src_vocab = 20000\n",
    "src_tokenizer = Tokenizer(num_words=src_vocab) # 단어 집합의 크기 제한\n",
    "src_tokenizer.fit_on_texts(encoder_input_train)"
   ]
  },
  {
   "cell_type": "markdown",
   "id": "26292ddd",
   "metadata": {},
   "source": [
    "텍스트를 정수 시퀸스로 변환"
   ]
  },
  {
   "cell_type": "code",
   "execution_count": 27,
   "id": "078832f2",
   "metadata": {},
   "outputs": [],
   "source": [
    "encoder_input_train = src_tokenizer.texts_to_sequences(encoder_input_train)\n",
    "encoder_input_test = src_tokenizer.texts_to_sequences(encoder_input_test)"
   ]
  },
  {
   "cell_type": "code",
   "execution_count": 29,
   "id": "9bc083a2",
   "metadata": {},
   "outputs": [
    {
     "name": "stdout",
     "output_type": "stream",
     "text": [
      "[[738, 54, 835, 366, 1562, 216, 184, 62, 3676, 19423, 28, 327, 59, 1, 5000, 90, 738, 16004, 48, 835, 4280, 1287, 134, 1193, 7913, 9133, 922, 48, 2936, 780, 1576, 1138, 2841], [81, 4281, 6616, 1, 2, 6105, 10975, 302, 241, 1172, 302, 241, 10975, 1413, 4, 4281, 163, 906, 172, 574, 15, 8279, 1, 1723, 732, 35, 10714, 4540], [6259, 194, 1518, 334, 87, 9, 68, 54, 1155, 429, 1259, 468, 601, 43, 468, 2146, 150, 22, 74, 237, 412, 182, 17, 13385, 1518, 197, 3309, 226]]\n"
     ]
    }
   ],
   "source": [
    "print(encoder_input_train[:3])"
   ]
  },
  {
   "cell_type": "markdown",
   "id": "54a6dc32",
   "metadata": {},
   "source": [
    "decoder_input 데이터에도 적용"
   ]
  },
  {
   "cell_type": "code",
   "execution_count": 30,
   "id": "085af7d0",
   "metadata": {},
   "outputs": [],
   "source": [
    "tar_tokenizer = Tokenizer()\n",
    "tar_tokenizer.fit_on_texts(decoder_input_train)"
   ]
  },
  {
   "cell_type": "code",
   "execution_count": 32,
   "id": "1254d183",
   "metadata": {},
   "outputs": [
    {
     "name": "stdout",
     "output_type": "stream",
     "text": [
      "단어 집합(vocabulary)의 크기 : 30042\n",
      "등장 빈도가 7번 이하인 희귀 단어의 수: 21288\n",
      "단어 집합에서 희귀 단어를 제외시킬 경우의 단어 집합의 크기 8754\n",
      "단어 집합에서 희귀 단어의 비율: 70.86079488715798\n",
      "전체 등장 빈도에서 희귀 단어 등장 빈도 비율: 5.967559830457235\n"
     ]
    }
   ],
   "source": [
    "threshold = 8\n",
    "total_cnt = len(tar_tokenizer.word_index) # 단어의 수\n",
    "rare_cnt = 0 # 등장 빈도수가 threshold보다 작은 단어의 개수를 카운트\n",
    "total_freq = 0 # 훈련 데이터의 전체 단어 빈도수 총 합\n",
    "rare_freq = 0 # 등장 빈도수가 threshold보다 작은 단어의 등장 빈도수의 총 합\n",
    "\n",
    "# 단어와 빈도수의 쌍(pair)을 key와 value로 받는다.\n",
    "for key, value in tar_tokenizer.word_counts.items():\n",
    "    total_freq = total_freq + value\n",
    "\n",
    "    # 단어의 등장 빈도수가 threshold보다 작으면\n",
    "    if(value < threshold):\n",
    "        rare_cnt = rare_cnt + 1\n",
    "        rare_freq = rare_freq + value\n",
    "\n",
    "print('단어 집합(vocabulary)의 크기 :', total_cnt)\n",
    "print('등장 빈도가 %s번 이하인 희귀 단어의 수: %s'%(threshold - 1, rare_cnt))\n",
    "print('단어 집합에서 희귀 단어를 제외시킬 경우의 단어 집합의 크기 %s'%(total_cnt - rare_cnt))\n",
    "print(\"단어 집합에서 희귀 단어의 비율:\", (rare_cnt / total_cnt)*100)\n",
    "print(\"전체 등장 빈도에서 희귀 단어 등장 빈도 비율:\", (rare_freq / total_freq)*100)"
   ]
  },
  {
   "cell_type": "markdown",
   "id": "08509dc5",
   "metadata": {},
   "source": [
    "위와 같이 등장 빈도가 8회 미만인 것을 제외하고  \n",
    "단어 집합의 크기를 8500으로 잡음"
   ]
  },
  {
   "cell_type": "code",
   "execution_count": 33,
   "id": "68077a62",
   "metadata": {},
   "outputs": [
    {
     "name": "stdout",
     "output_type": "stream",
     "text": [
      "input\n",
      "input  [[1, 2530, 857, 9, 599, 1702, 183, 4], [1, 8, 19, 4550, 6, 48, 3517], [1, 305, 189, 846, 746, 298, 4268], [1, 5426, 1442, 3329, 14, 1800, 4411, 2275], [1, 141, 10, 6845, 141, 5, 1390, 199, 48, 68, 30]]\n",
      "target\n",
      "decoder  [[2530, 857, 9, 599, 1702, 183, 4, 2], [8, 19, 4550, 6, 48, 3517, 2], [305, 189, 846, 746, 298, 4268, 2], [5426, 1442, 3329, 14, 1800, 4411, 2275, 2], [141, 10, 6845, 141, 5, 1390, 199, 48, 68, 30, 2]]\n"
     ]
    }
   ],
   "source": [
    "tar_vocab = 8500\n",
    "tar_tokenizer = Tokenizer(num_words=tar_vocab) \n",
    "tar_tokenizer.fit_on_texts(decoder_input_train)\n",
    "tar_tokenizer.fit_on_texts(decoder_target_train)\n",
    "\n",
    "# 텍스트 시퀀스를 정수 시퀀스로 변환\n",
    "decoder_input_train = tar_tokenizer.texts_to_sequences(decoder_input_train) \n",
    "decoder_target_train = tar_tokenizer.texts_to_sequences(decoder_target_train)\n",
    "decoder_input_test = tar_tokenizer.texts_to_sequences(decoder_input_test)\n",
    "decoder_target_test = tar_tokenizer.texts_to_sequences(decoder_target_test)\n",
    "\n",
    "# 잘 변환되었는지 확인\n",
    "print('input')\n",
    "print('input ',decoder_input_train[:5])\n",
    "print('target')\n",
    "print('decoder ',decoder_target_train[:5])"
   ]
  },
  {
   "cell_type": "markdown",
   "id": "33dc7daa",
   "metadata": {},
   "source": [
    "위의 과정에서 희귀단어들을 제외하는 과정 중  \n",
    "만약 희귀단어로만 구성되어있는 데이터는 어떻게 되었을까?  \n",
    "아마 샘플이 빈 상태로 남아있을것이다.  \n",
    "이 현상은 상대적으로 문장 길이가 길었던 text 데이터보다 짧은 headlins 에서 더욱 돋보일것이며,  \n",
    "decoder_input / decoder_output에서는 각각 시작토큰과 종료토큰때문에 길이가 1로 출력이 될 것이다."
   ]
  },
  {
   "cell_type": "code",
   "execution_count": 35,
   "id": "2c7d72c7",
   "metadata": {},
   "outputs": [
    {
     "name": "stdout",
     "output_type": "stream",
     "text": [
      "삭제할 훈련 데이터의 개수 : 0\n",
      "삭제할 테스트 데이터의 개수 : 1\n",
      "훈련 데이터의 개수 : 78688\n",
      "훈련 레이블의 개수 : 78688\n",
      "테스트 데이터의 개수 : 19671\n",
      "테스트 레이블의 개수 : 19671\n"
     ]
    }
   ],
   "source": [
    "drop_train = [index for index, sentence in enumerate(decoder_input_train) if len(sentence) == 1]\n",
    "drop_test = [index for index, sentence in enumerate(decoder_input_test) if len(sentence) == 1]\n",
    "\n",
    "print('삭제할 훈련 데이터의 개수 :', len(drop_train))\n",
    "print('삭제할 테스트 데이터의 개수 :', len(drop_test))\n",
    "\n",
    "encoder_input_train = [sentence for index, sentence in enumerate(encoder_input_train) if index not in drop_train]\n",
    "decoder_input_train = [sentence for index, sentence in enumerate(decoder_input_train) if index not in drop_train]\n",
    "decoder_target_train = [sentence for index, sentence in enumerate(decoder_target_train) if index not in drop_train]\n",
    "\n",
    "encoder_input_test = [sentence for index, sentence in enumerate(encoder_input_test) if index not in drop_test]\n",
    "decoder_input_test = [sentence for index, sentence in enumerate(decoder_input_test) if index not in drop_test]\n",
    "decoder_target_test = [sentence for index, sentence in enumerate(decoder_target_test) if index not in drop_test]\n",
    "\n",
    "print('훈련 데이터의 개수 :', len(encoder_input_train))\n",
    "print('훈련 레이블의 개수 :', len(decoder_input_train))\n",
    "print('테스트 데이터의 개수 :', len(encoder_input_test))\n",
    "print('테스트 레이블의 개수 :', len(decoder_input_test))"
   ]
  },
  {
   "cell_type": "markdown",
   "id": "0aa32a83",
   "metadata": {},
   "source": [
    "샘플들의 길이를 맞춰주기위해 최대 길이만큼 패딩을 넣어준다."
   ]
  },
  {
   "cell_type": "code",
   "execution_count": 38,
   "id": "8122dd71",
   "metadata": {},
   "outputs": [],
   "source": [
    "encoder_input_train = pad_sequences(encoder_input_train, maxlen=np.max(text_len), padding='post')\n",
    "encoder_input_test = pad_sequences(encoder_input_test, maxlen=np.max(text_len), padding='post')\n",
    "decoder_input_train = pad_sequences(decoder_input_train, maxlen=np.max(headline_len), padding='post')\n",
    "decoder_target_train = pad_sequences(decoder_target_train, maxlen=np.max(headline_len), padding='post')\n",
    "decoder_input_test = pad_sequences(decoder_input_test, maxlen=np.max(headline_len), padding='post')\n",
    "decoder_target_test = pad_sequences(decoder_target_test, maxlen=np.max(headline_len), padding='post')"
   ]
  },
  {
   "cell_type": "code",
   "execution_count": null,
   "id": "990c95f5",
   "metadata": {},
   "outputs": [],
   "source": []
  }
 ],
 "metadata": {
  "kernelspec": {
   "display_name": "Python 3 (ipykernel)",
   "language": "python",
   "name": "python3"
  },
  "language_info": {
   "codemirror_mode": {
    "name": "ipython",
    "version": 3
   },
   "file_extension": ".py",
   "mimetype": "text/x-python",
   "name": "python",
   "nbconvert_exporter": "python",
   "pygments_lexer": "ipython3",
   "version": "3.9.7"
  }
 },
 "nbformat": 4,
 "nbformat_minor": 5
}
