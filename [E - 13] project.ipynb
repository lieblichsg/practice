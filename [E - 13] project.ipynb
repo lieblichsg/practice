{
 "cells": [
  {
   "cell_type": "markdown",
   "id": "53ee3310",
   "metadata": {},
   "source": [
    "# Movielens 영화 추천\n",
    "## MF 모델 학습 방법을 토대로, 영화 추천 시스템 제작\n",
    "별점 데이터는 대표적인 explicit(직접적)데이터 이지만 implicit(간접적)데이터로 간주하고 테스트 할 수 있음  \n",
    "별점 = 시청횟수로 해석하여 진행  \n",
    "3점 미만 데이터는 비선호 데이터로 가정, 제외"
   ]
  },
  {
   "cell_type": "code",
   "execution_count": 1,
   "id": "e292e19a",
   "metadata": {},
   "outputs": [],
   "source": [
    "# mkdir -p ~/aiffel/recommendata_iu/data/ml-1m\n",
    "# ln -s ~/data/ml-1m/* ~/aiffel/recommendata_iu/data/ml-1m"
   ]
  },
  {
   "cell_type": "code",
   "execution_count": 2,
   "id": "2d1b293d",
   "metadata": {},
   "outputs": [
    {
     "name": "stdout",
     "output_type": "stream",
     "text": [
      "1.21.4\n",
      "1.7.1\n",
      "0.4.8\n"
     ]
    }
   ],
   "source": [
    "import pandas as pd\n",
    "import os\n",
    "import numpy as np\n",
    "import re\n",
    "import scipy\n",
    "from scipy.sparse import csr_matrix\n",
    "import implicit\n",
    "from implicit.als import AlternatingLeastSquares\n",
    "\n",
    "print(np.__version__)\n",
    "print(scipy.__version__)\n",
    "print(implicit.__version__)"
   ]
  },
  {
   "cell_type": "markdown",
   "id": "00499eb0",
   "metadata": {},
   "source": [
    "## 데이터 준비와 전처리\n",
    "Movielens 데이터는 rating.dat 안에 이미 인덱싱까지 완료된 사용자-영화-평점 데이터가 정리되어있음"
   ]
  },
  {
   "cell_type": "code",
   "execution_count": 3,
   "id": "9fea2593",
   "metadata": {},
   "outputs": [
    {
     "data": {
      "text/html": [
       "<div>\n",
       "<style scoped>\n",
       "    .dataframe tbody tr th:only-of-type {\n",
       "        vertical-align: middle;\n",
       "    }\n",
       "\n",
       "    .dataframe tbody tr th {\n",
       "        vertical-align: top;\n",
       "    }\n",
       "\n",
       "    .dataframe thead th {\n",
       "        text-align: right;\n",
       "    }\n",
       "</style>\n",
       "<table border=\"1\" class=\"dataframe\">\n",
       "  <thead>\n",
       "    <tr style=\"text-align: right;\">\n",
       "      <th></th>\n",
       "      <th>user_id</th>\n",
       "      <th>movie_id</th>\n",
       "      <th>ratings</th>\n",
       "      <th>timestamp</th>\n",
       "    </tr>\n",
       "  </thead>\n",
       "  <tbody>\n",
       "    <tr>\n",
       "      <th>0</th>\n",
       "      <td>1</td>\n",
       "      <td>1193</td>\n",
       "      <td>5</td>\n",
       "      <td>978300760</td>\n",
       "    </tr>\n",
       "    <tr>\n",
       "      <th>1</th>\n",
       "      <td>1</td>\n",
       "      <td>661</td>\n",
       "      <td>3</td>\n",
       "      <td>978302109</td>\n",
       "    </tr>\n",
       "    <tr>\n",
       "      <th>2</th>\n",
       "      <td>1</td>\n",
       "      <td>914</td>\n",
       "      <td>3</td>\n",
       "      <td>978301968</td>\n",
       "    </tr>\n",
       "    <tr>\n",
       "      <th>3</th>\n",
       "      <td>1</td>\n",
       "      <td>3408</td>\n",
       "      <td>4</td>\n",
       "      <td>978300275</td>\n",
       "    </tr>\n",
       "    <tr>\n",
       "      <th>4</th>\n",
       "      <td>1</td>\n",
       "      <td>2355</td>\n",
       "      <td>5</td>\n",
       "      <td>978824291</td>\n",
       "    </tr>\n",
       "  </tbody>\n",
       "</table>\n",
       "</div>"
      ],
      "text/plain": [
       "   user_id  movie_id  ratings  timestamp\n",
       "0        1      1193        5  978300760\n",
       "1        1       661        3  978302109\n",
       "2        1       914        3  978301968\n",
       "3        1      3408        4  978300275\n",
       "4        1      2355        5  978824291"
      ]
     },
     "execution_count": 3,
     "metadata": {},
     "output_type": "execute_result"
    }
   ],
   "source": [
    "rating_file_path=os.getenv('HOME') + '/aiffel/recommendata_iu/data/ml-1m/ratings.dat'\n",
    "ratings_cols = ['user_id', 'movie_id', 'ratings', 'timestamp']\n",
    "ratings = pd.read_csv(rating_file_path, sep='::', names=ratings_cols, engine='python', encoding = \"ISO-8859-1\")\n",
    "orginal_data_size = len(ratings)\n",
    "ratings.head()"
   ]
  },
  {
   "cell_type": "markdown",
   "id": "38893c5d",
   "metadata": {},
   "source": [
    "3점 미만의 데이터는 제외"
   ]
  },
  {
   "cell_type": "code",
   "execution_count": 4,
   "id": "819424c9",
   "metadata": {},
   "outputs": [
    {
     "name": "stdout",
     "output_type": "stream",
     "text": [
      "orginal_data_size: 1000209, filtered_data_size: 836478\n",
      "Ratio of Remaining Data is 83.63%\n"
     ]
    }
   ],
   "source": [
    "ratings = ratings[ratings['ratings']>=3]\n",
    "filtered_data_size = len(ratings)\n",
    "\n",
    "print(f'orginal_data_size: {orginal_data_size}, filtered_data_size: {filtered_data_size}')\n",
    "print(f'Ratio of Remaining Data is {filtered_data_size / orginal_data_size:.2%}')"
   ]
  },
  {
   "cell_type": "markdown",
   "id": "cc373b70",
   "metadata": {},
   "source": [
    "별점을 시청 횟수로 간주하기로 했으므로 컬럼 이름 바꾸기"
   ]
  },
  {
   "cell_type": "code",
   "execution_count": 5,
   "id": "f71758fa",
   "metadata": {},
   "outputs": [],
   "source": [
    "ratings.rename(columns={'ratings':'counts'}, inplace=True)"
   ]
  },
  {
   "cell_type": "code",
   "execution_count": 6,
   "id": "e32653d8",
   "metadata": {},
   "outputs": [
    {
     "data": {
      "text/plain": [
       "0          5\n",
       "1          3\n",
       "2          3\n",
       "3          4\n",
       "4          5\n",
       "          ..\n",
       "1000203    3\n",
       "1000205    5\n",
       "1000206    5\n",
       "1000207    4\n",
       "1000208    4\n",
       "Name: counts, Length: 836478, dtype: int64"
      ]
     },
     "execution_count": 6,
     "metadata": {},
     "output_type": "execute_result"
    }
   ],
   "source": [
    "ratings['counts']"
   ]
  },
  {
   "cell_type": "markdown",
   "id": "5f3c3582",
   "metadata": {},
   "source": [
    "영화 제목을 보기 위해 메타 데이터를 불러옴"
   ]
  },
  {
   "cell_type": "code",
   "execution_count": 7,
   "id": "ec2c0ec9",
   "metadata": {},
   "outputs": [
    {
     "data": {
      "text/html": [
       "<div>\n",
       "<style scoped>\n",
       "    .dataframe tbody tr th:only-of-type {\n",
       "        vertical-align: middle;\n",
       "    }\n",
       "\n",
       "    .dataframe tbody tr th {\n",
       "        vertical-align: top;\n",
       "    }\n",
       "\n",
       "    .dataframe thead th {\n",
       "        text-align: right;\n",
       "    }\n",
       "</style>\n",
       "<table border=\"1\" class=\"dataframe\">\n",
       "  <thead>\n",
       "    <tr style=\"text-align: right;\">\n",
       "      <th></th>\n",
       "      <th>movie_id</th>\n",
       "      <th>title</th>\n",
       "      <th>genre</th>\n",
       "    </tr>\n",
       "  </thead>\n",
       "  <tbody>\n",
       "    <tr>\n",
       "      <th>0</th>\n",
       "      <td>1</td>\n",
       "      <td>Toy Story (1995)</td>\n",
       "      <td>Animation|Children's|Comedy</td>\n",
       "    </tr>\n",
       "    <tr>\n",
       "      <th>1</th>\n",
       "      <td>2</td>\n",
       "      <td>Jumanji (1995)</td>\n",
       "      <td>Adventure|Children's|Fantasy</td>\n",
       "    </tr>\n",
       "    <tr>\n",
       "      <th>2</th>\n",
       "      <td>3</td>\n",
       "      <td>Grumpier Old Men (1995)</td>\n",
       "      <td>Comedy|Romance</td>\n",
       "    </tr>\n",
       "    <tr>\n",
       "      <th>3</th>\n",
       "      <td>4</td>\n",
       "      <td>Waiting to Exhale (1995)</td>\n",
       "      <td>Comedy|Drama</td>\n",
       "    </tr>\n",
       "    <tr>\n",
       "      <th>4</th>\n",
       "      <td>5</td>\n",
       "      <td>Father of the Bride Part II (1995)</td>\n",
       "      <td>Comedy</td>\n",
       "    </tr>\n",
       "  </tbody>\n",
       "</table>\n",
       "</div>"
      ],
      "text/plain": [
       "   movie_id                               title                         genre\n",
       "0         1                    Toy Story (1995)   Animation|Children's|Comedy\n",
       "1         2                      Jumanji (1995)  Adventure|Children's|Fantasy\n",
       "2         3             Grumpier Old Men (1995)                Comedy|Romance\n",
       "3         4            Waiting to Exhale (1995)                  Comedy|Drama\n",
       "4         5  Father of the Bride Part II (1995)                        Comedy"
      ]
     },
     "execution_count": 7,
     "metadata": {},
     "output_type": "execute_result"
    }
   ],
   "source": [
    "movie_file_path=os.getenv('HOME') + '/aiffel/recommendata_iu/data/ml-1m/movies.dat'\n",
    "cols = ['movie_id', 'title', 'genre'] \n",
    "movies = pd.read_csv(movie_file_path, sep='::', names=cols, engine='python', encoding='ISO-8859-1')\n",
    "movies.head()"
   ]
  },
  {
   "cell_type": "markdown",
   "id": "cb0049fa",
   "metadata": {},
   "source": [
    "두 데이터를 movie_id 기준으로 병합"
   ]
  },
  {
   "cell_type": "code",
   "execution_count": 8,
   "id": "ea341e65",
   "metadata": {},
   "outputs": [
    {
     "name": "stdout",
     "output_type": "stream",
     "text": [
      "<class 'pandas.core.frame.DataFrame'>\n",
      "Int64Index: 836478 entries, 0 to 1000208\n",
      "Data columns (total 4 columns):\n",
      " #   Column     Non-Null Count   Dtype\n",
      "---  ------     --------------   -----\n",
      " 0   user_id    836478 non-null  int64\n",
      " 1   movie_id   836478 non-null  int64\n",
      " 2   counts     836478 non-null  int64\n",
      " 3   timestamp  836478 non-null  int64\n",
      "dtypes: int64(4)\n",
      "memory usage: 31.9 MB\n",
      "<class 'pandas.core.frame.DataFrame'>\n",
      "RangeIndex: 3883 entries, 0 to 3882\n",
      "Data columns (total 3 columns):\n",
      " #   Column    Non-Null Count  Dtype \n",
      "---  ------    --------------  ----- \n",
      " 0   movie_id  3883 non-null   int64 \n",
      " 1   title     3883 non-null   object\n",
      " 2   genre     3883 non-null   object\n",
      "dtypes: int64(1), object(2)\n",
      "memory usage: 91.1+ KB\n"
     ]
    },
    {
     "data": {
      "text/plain": [
       "(None, None)"
      ]
     },
     "execution_count": 8,
     "metadata": {},
     "output_type": "execute_result"
    }
   ],
   "source": [
    "ratings.info(), movies.info()"
   ]
  },
  {
   "cell_type": "code",
   "execution_count": 9,
   "id": "a5be755a",
   "metadata": {},
   "outputs": [
    {
     "data": {
      "text/html": [
       "<div>\n",
       "<style scoped>\n",
       "    .dataframe tbody tr th:only-of-type {\n",
       "        vertical-align: middle;\n",
       "    }\n",
       "\n",
       "    .dataframe tbody tr th {\n",
       "        vertical-align: top;\n",
       "    }\n",
       "\n",
       "    .dataframe thead th {\n",
       "        text-align: right;\n",
       "    }\n",
       "</style>\n",
       "<table border=\"1\" class=\"dataframe\">\n",
       "  <thead>\n",
       "    <tr style=\"text-align: right;\">\n",
       "      <th></th>\n",
       "      <th>user_id</th>\n",
       "      <th>movie_id</th>\n",
       "      <th>counts</th>\n",
       "      <th>timestamp</th>\n",
       "      <th>title</th>\n",
       "      <th>genre</th>\n",
       "    </tr>\n",
       "  </thead>\n",
       "  <tbody>\n",
       "    <tr>\n",
       "      <th>355592</th>\n",
       "      <td>2599</td>\n",
       "      <td>2143</td>\n",
       "      <td>3</td>\n",
       "      <td>973796493</td>\n",
       "      <td>Legend (1985)</td>\n",
       "      <td>Adventure|Fantasy|Romance</td>\n",
       "    </tr>\n",
       "    <tr>\n",
       "      <th>413792</th>\n",
       "      <td>3050</td>\n",
       "      <td>674</td>\n",
       "      <td>5</td>\n",
       "      <td>970179340</td>\n",
       "      <td>Barbarella (1968)</td>\n",
       "      <td>Adventure|Sci-Fi</td>\n",
       "    </tr>\n",
       "    <tr>\n",
       "      <th>267140</th>\n",
       "      <td>1908</td>\n",
       "      <td>1584</td>\n",
       "      <td>5</td>\n",
       "      <td>974698500</td>\n",
       "      <td>Contact (1997)</td>\n",
       "      <td>Drama|Sci-Fi</td>\n",
       "    </tr>\n",
       "    <tr>\n",
       "      <th>27579</th>\n",
       "      <td>220</td>\n",
       "      <td>3178</td>\n",
       "      <td>4</td>\n",
       "      <td>976836514</td>\n",
       "      <td>Hurricane, The (1999)</td>\n",
       "      <td>Drama</td>\n",
       "    </tr>\n",
       "    <tr>\n",
       "      <th>170033</th>\n",
       "      <td>1260</td>\n",
       "      <td>802</td>\n",
       "      <td>3</td>\n",
       "      <td>992268393</td>\n",
       "      <td>Phenomenon (1996)</td>\n",
       "      <td>Drama|Romance</td>\n",
       "    </tr>\n",
       "    <tr>\n",
       "      <th>64924</th>\n",
       "      <td>521</td>\n",
       "      <td>1267</td>\n",
       "      <td>5</td>\n",
       "      <td>976198729</td>\n",
       "      <td>Manchurian Candidate, The (1962)</td>\n",
       "      <td>Film-Noir|Thriller</td>\n",
       "    </tr>\n",
       "    <tr>\n",
       "      <th>449266</th>\n",
       "      <td>3313</td>\n",
       "      <td>3418</td>\n",
       "      <td>4</td>\n",
       "      <td>968381726</td>\n",
       "      <td>Thelma &amp; Louise (1991)</td>\n",
       "      <td>Action|Drama</td>\n",
       "    </tr>\n",
       "    <tr>\n",
       "      <th>270444</th>\n",
       "      <td>1928</td>\n",
       "      <td>349</td>\n",
       "      <td>4</td>\n",
       "      <td>975189024</td>\n",
       "      <td>Clear and Present Danger (1994)</td>\n",
       "      <td>Action|Adventure|Thriller</td>\n",
       "    </tr>\n",
       "    <tr>\n",
       "      <th>725873</th>\n",
       "      <td>5246</td>\n",
       "      <td>3361</td>\n",
       "      <td>3</td>\n",
       "      <td>961373927</td>\n",
       "      <td>Bull Durham (1988)</td>\n",
       "      <td>Comedy</td>\n",
       "    </tr>\n",
       "    <tr>\n",
       "      <th>832665</th>\n",
       "      <td>6011</td>\n",
       "      <td>2001</td>\n",
       "      <td>5</td>\n",
       "      <td>956787267</td>\n",
       "      <td>Lethal Weapon 2 (1989)</td>\n",
       "      <td>Action|Comedy|Crime|Drama</td>\n",
       "    </tr>\n",
       "  </tbody>\n",
       "</table>\n",
       "</div>"
      ],
      "text/plain": [
       "        user_id  movie_id  counts  timestamp  \\\n",
       "355592     2599      2143       3  973796493   \n",
       "413792     3050       674       5  970179340   \n",
       "267140     1908      1584       5  974698500   \n",
       "27579       220      3178       4  976836514   \n",
       "170033     1260       802       3  992268393   \n",
       "64924       521      1267       5  976198729   \n",
       "449266     3313      3418       4  968381726   \n",
       "270444     1928       349       4  975189024   \n",
       "725873     5246      3361       3  961373927   \n",
       "832665     6011      2001       5  956787267   \n",
       "\n",
       "                                   title                      genre  \n",
       "355592                     Legend (1985)  Adventure|Fantasy|Romance  \n",
       "413792                 Barbarella (1968)           Adventure|Sci-Fi  \n",
       "267140                    Contact (1997)               Drama|Sci-Fi  \n",
       "27579              Hurricane, The (1999)                      Drama  \n",
       "170033                 Phenomenon (1996)              Drama|Romance  \n",
       "64924   Manchurian Candidate, The (1962)         Film-Noir|Thriller  \n",
       "449266            Thelma & Louise (1991)               Action|Drama  \n",
       "270444   Clear and Present Danger (1994)  Action|Adventure|Thriller  \n",
       "725873                Bull Durham (1988)                     Comedy  \n",
       "832665            Lethal Weapon 2 (1989)  Action|Comedy|Crime|Drama  "
      ]
     },
     "execution_count": 9,
     "metadata": {},
     "output_type": "execute_result"
    }
   ],
   "source": [
    "data = pd.merge(ratings, movies, how='left', left_on='movie_id', right_on='movie_id')\n",
    "data.sample(10)"
   ]
  },
  {
   "cell_type": "code",
   "execution_count": 10,
   "id": "1c891dff",
   "metadata": {},
   "outputs": [
    {
     "name": "stdout",
     "output_type": "stream",
     "text": [
      "<class 'pandas.core.frame.DataFrame'>\n",
      "Int64Index: 836478 entries, 0 to 836477\n",
      "Data columns (total 6 columns):\n",
      " #   Column     Non-Null Count   Dtype \n",
      "---  ------     --------------   ----- \n",
      " 0   user_id    836478 non-null  int64 \n",
      " 1   movie_id   836478 non-null  int64 \n",
      " 2   counts     836478 non-null  int64 \n",
      " 3   timestamp  836478 non-null  int64 \n",
      " 4   title      836478 non-null  object\n",
      " 5   genre      836478 non-null  object\n",
      "dtypes: int64(4), object(2)\n",
      "memory usage: 44.7+ MB\n"
     ]
    }
   ],
   "source": [
    "data.info()"
   ]
  },
  {
   "cell_type": "markdown",
   "id": "80f9825f",
   "metadata": {},
   "source": [
    "결측치 없음\n",
    "필요한 컬럼만 가져와서 재지정"
   ]
  },
  {
   "cell_type": "code",
   "execution_count": 11,
   "id": "fdbe5fc0",
   "metadata": {},
   "outputs": [
    {
     "data": {
      "text/html": [
       "<div>\n",
       "<style scoped>\n",
       "    .dataframe tbody tr th:only-of-type {\n",
       "        vertical-align: middle;\n",
       "    }\n",
       "\n",
       "    .dataframe tbody tr th {\n",
       "        vertical-align: top;\n",
       "    }\n",
       "\n",
       "    .dataframe thead th {\n",
       "        text-align: right;\n",
       "    }\n",
       "</style>\n",
       "<table border=\"1\" class=\"dataframe\">\n",
       "  <thead>\n",
       "    <tr style=\"text-align: right;\">\n",
       "      <th></th>\n",
       "      <th>user_id</th>\n",
       "      <th>movie_id</th>\n",
       "      <th>counts</th>\n",
       "      <th>title</th>\n",
       "      <th>genre</th>\n",
       "    </tr>\n",
       "  </thead>\n",
       "  <tbody>\n",
       "    <tr>\n",
       "      <th>0</th>\n",
       "      <td>1</td>\n",
       "      <td>1193</td>\n",
       "      <td>5</td>\n",
       "      <td>One Flew Over the Cuckoo's Nest (1975)</td>\n",
       "      <td>Drama</td>\n",
       "    </tr>\n",
       "    <tr>\n",
       "      <th>1</th>\n",
       "      <td>1</td>\n",
       "      <td>661</td>\n",
       "      <td>3</td>\n",
       "      <td>James and the Giant Peach (1996)</td>\n",
       "      <td>Animation|Children's|Musical</td>\n",
       "    </tr>\n",
       "    <tr>\n",
       "      <th>2</th>\n",
       "      <td>1</td>\n",
       "      <td>914</td>\n",
       "      <td>3</td>\n",
       "      <td>My Fair Lady (1964)</td>\n",
       "      <td>Musical|Romance</td>\n",
       "    </tr>\n",
       "    <tr>\n",
       "      <th>3</th>\n",
       "      <td>1</td>\n",
       "      <td>3408</td>\n",
       "      <td>4</td>\n",
       "      <td>Erin Brockovich (2000)</td>\n",
       "      <td>Drama</td>\n",
       "    </tr>\n",
       "    <tr>\n",
       "      <th>4</th>\n",
       "      <td>1</td>\n",
       "      <td>2355</td>\n",
       "      <td>5</td>\n",
       "      <td>Bug's Life, A (1998)</td>\n",
       "      <td>Animation|Children's|Comedy</td>\n",
       "    </tr>\n",
       "    <tr>\n",
       "      <th>...</th>\n",
       "      <td>...</td>\n",
       "      <td>...</td>\n",
       "      <td>...</td>\n",
       "      <td>...</td>\n",
       "      <td>...</td>\n",
       "    </tr>\n",
       "    <tr>\n",
       "      <th>836473</th>\n",
       "      <td>6040</td>\n",
       "      <td>1090</td>\n",
       "      <td>3</td>\n",
       "      <td>Platoon (1986)</td>\n",
       "      <td>Drama|War</td>\n",
       "    </tr>\n",
       "    <tr>\n",
       "      <th>836474</th>\n",
       "      <td>6040</td>\n",
       "      <td>1094</td>\n",
       "      <td>5</td>\n",
       "      <td>Crying Game, The (1992)</td>\n",
       "      <td>Drama|Romance|War</td>\n",
       "    </tr>\n",
       "    <tr>\n",
       "      <th>836475</th>\n",
       "      <td>6040</td>\n",
       "      <td>562</td>\n",
       "      <td>5</td>\n",
       "      <td>Welcome to the Dollhouse (1995)</td>\n",
       "      <td>Comedy|Drama</td>\n",
       "    </tr>\n",
       "    <tr>\n",
       "      <th>836476</th>\n",
       "      <td>6040</td>\n",
       "      <td>1096</td>\n",
       "      <td>4</td>\n",
       "      <td>Sophie's Choice (1982)</td>\n",
       "      <td>Drama</td>\n",
       "    </tr>\n",
       "    <tr>\n",
       "      <th>836477</th>\n",
       "      <td>6040</td>\n",
       "      <td>1097</td>\n",
       "      <td>4</td>\n",
       "      <td>E.T. the Extra-Terrestrial (1982)</td>\n",
       "      <td>Children's|Drama|Fantasy|Sci-Fi</td>\n",
       "    </tr>\n",
       "  </tbody>\n",
       "</table>\n",
       "<p>836478 rows × 5 columns</p>\n",
       "</div>"
      ],
      "text/plain": [
       "        user_id  movie_id  counts                                   title  \\\n",
       "0             1      1193       5  One Flew Over the Cuckoo's Nest (1975)   \n",
       "1             1       661       3        James and the Giant Peach (1996)   \n",
       "2             1       914       3                     My Fair Lady (1964)   \n",
       "3             1      3408       4                  Erin Brockovich (2000)   \n",
       "4             1      2355       5                    Bug's Life, A (1998)   \n",
       "...         ...       ...     ...                                     ...   \n",
       "836473     6040      1090       3                          Platoon (1986)   \n",
       "836474     6040      1094       5                 Crying Game, The (1992)   \n",
       "836475     6040       562       5         Welcome to the Dollhouse (1995)   \n",
       "836476     6040      1096       4                  Sophie's Choice (1982)   \n",
       "836477     6040      1097       4       E.T. the Extra-Terrestrial (1982)   \n",
       "\n",
       "                                  genre  \n",
       "0                                 Drama  \n",
       "1          Animation|Children's|Musical  \n",
       "2                       Musical|Romance  \n",
       "3                                 Drama  \n",
       "4           Animation|Children's|Comedy  \n",
       "...                                 ...  \n",
       "836473                        Drama|War  \n",
       "836474                Drama|Romance|War  \n",
       "836475                     Comedy|Drama  \n",
       "836476                            Drama  \n",
       "836477  Children's|Drama|Fantasy|Sci-Fi  \n",
       "\n",
       "[836478 rows x 5 columns]"
      ]
     },
     "execution_count": 11,
     "metadata": {},
     "output_type": "execute_result"
    }
   ],
   "source": [
    "data = data[['user_id','movie_id','counts','title','genre']]\n",
    "data"
   ]
  },
  {
   "cell_type": "markdown",
   "id": "82e0dcb0",
   "metadata": {},
   "source": [
    "title에 있는 출시년도를 뜻하는 괄호 안 숫자를 제거"
   ]
  },
  {
   "cell_type": "code",
   "execution_count": 12,
   "id": "f36b82e7",
   "metadata": {
    "scrolled": false
   },
   "outputs": [
    {
     "data": {
      "text/html": [
       "<div>\n",
       "<style scoped>\n",
       "    .dataframe tbody tr th:only-of-type {\n",
       "        vertical-align: middle;\n",
       "    }\n",
       "\n",
       "    .dataframe tbody tr th {\n",
       "        vertical-align: top;\n",
       "    }\n",
       "\n",
       "    .dataframe thead th {\n",
       "        text-align: right;\n",
       "    }\n",
       "</style>\n",
       "<table border=\"1\" class=\"dataframe\">\n",
       "  <thead>\n",
       "    <tr style=\"text-align: right;\">\n",
       "      <th></th>\n",
       "      <th>user_id</th>\n",
       "      <th>movie_id</th>\n",
       "      <th>counts</th>\n",
       "      <th>title</th>\n",
       "      <th>genre</th>\n",
       "    </tr>\n",
       "  </thead>\n",
       "  <tbody>\n",
       "    <tr>\n",
       "      <th>0</th>\n",
       "      <td>1</td>\n",
       "      <td>1193</td>\n",
       "      <td>5</td>\n",
       "      <td>One Flew Over the Cuckoo's Nest</td>\n",
       "      <td>Drama</td>\n",
       "    </tr>\n",
       "    <tr>\n",
       "      <th>1</th>\n",
       "      <td>1</td>\n",
       "      <td>661</td>\n",
       "      <td>3</td>\n",
       "      <td>James and the Giant Peach</td>\n",
       "      <td>Animation|Children's|Musical</td>\n",
       "    </tr>\n",
       "    <tr>\n",
       "      <th>2</th>\n",
       "      <td>1</td>\n",
       "      <td>914</td>\n",
       "      <td>3</td>\n",
       "      <td>My Fair Lady</td>\n",
       "      <td>Musical|Romance</td>\n",
       "    </tr>\n",
       "    <tr>\n",
       "      <th>3</th>\n",
       "      <td>1</td>\n",
       "      <td>3408</td>\n",
       "      <td>4</td>\n",
       "      <td>Erin Brockovich</td>\n",
       "      <td>Drama</td>\n",
       "    </tr>\n",
       "    <tr>\n",
       "      <th>4</th>\n",
       "      <td>1</td>\n",
       "      <td>2355</td>\n",
       "      <td>5</td>\n",
       "      <td>Bug's Life, A</td>\n",
       "      <td>Animation|Children's|Comedy</td>\n",
       "    </tr>\n",
       "    <tr>\n",
       "      <th>...</th>\n",
       "      <td>...</td>\n",
       "      <td>...</td>\n",
       "      <td>...</td>\n",
       "      <td>...</td>\n",
       "      <td>...</td>\n",
       "    </tr>\n",
       "    <tr>\n",
       "      <th>836473</th>\n",
       "      <td>6040</td>\n",
       "      <td>1090</td>\n",
       "      <td>3</td>\n",
       "      <td>Platoon</td>\n",
       "      <td>Drama|War</td>\n",
       "    </tr>\n",
       "    <tr>\n",
       "      <th>836474</th>\n",
       "      <td>6040</td>\n",
       "      <td>1094</td>\n",
       "      <td>5</td>\n",
       "      <td>Crying Game, The</td>\n",
       "      <td>Drama|Romance|War</td>\n",
       "    </tr>\n",
       "    <tr>\n",
       "      <th>836475</th>\n",
       "      <td>6040</td>\n",
       "      <td>562</td>\n",
       "      <td>5</td>\n",
       "      <td>Welcome to the Dollhouse</td>\n",
       "      <td>Comedy|Drama</td>\n",
       "    </tr>\n",
       "    <tr>\n",
       "      <th>836476</th>\n",
       "      <td>6040</td>\n",
       "      <td>1096</td>\n",
       "      <td>4</td>\n",
       "      <td>Sophie's Choice</td>\n",
       "      <td>Drama</td>\n",
       "    </tr>\n",
       "    <tr>\n",
       "      <th>836477</th>\n",
       "      <td>6040</td>\n",
       "      <td>1097</td>\n",
       "      <td>4</td>\n",
       "      <td>E.T. the Extra-Terrestrial</td>\n",
       "      <td>Children's|Drama|Fantasy|Sci-Fi</td>\n",
       "    </tr>\n",
       "  </tbody>\n",
       "</table>\n",
       "<p>836478 rows × 5 columns</p>\n",
       "</div>"
      ],
      "text/plain": [
       "        user_id  movie_id  counts                             title  \\\n",
       "0             1      1193       5  One Flew Over the Cuckoo's Nest    \n",
       "1             1       661       3        James and the Giant Peach    \n",
       "2             1       914       3                     My Fair Lady    \n",
       "3             1      3408       4                  Erin Brockovich    \n",
       "4             1      2355       5                    Bug's Life, A    \n",
       "...         ...       ...     ...                               ...   \n",
       "836473     6040      1090       3                          Platoon    \n",
       "836474     6040      1094       5                 Crying Game, The    \n",
       "836475     6040       562       5         Welcome to the Dollhouse    \n",
       "836476     6040      1096       4                  Sophie's Choice    \n",
       "836477     6040      1097       4       E.T. the Extra-Terrestrial    \n",
       "\n",
       "                                  genre  \n",
       "0                                 Drama  \n",
       "1          Animation|Children's|Musical  \n",
       "2                       Musical|Romance  \n",
       "3                                 Drama  \n",
       "4           Animation|Children's|Comedy  \n",
       "...                                 ...  \n",
       "836473                        Drama|War  \n",
       "836474                Drama|Romance|War  \n",
       "836475                     Comedy|Drama  \n",
       "836476                            Drama  \n",
       "836477  Children's|Drama|Fantasy|Sci-Fi  \n",
       "\n",
       "[836478 rows x 5 columns]"
      ]
     },
     "execution_count": 12,
     "metadata": {},
     "output_type": "execute_result"
    }
   ],
   "source": [
    "title = data['title']\n",
    "new_title = []\n",
    "for v in title:\n",
    "    nt = re.sub(r'\\([^)]*\\)', '', v)\n",
    "    new_title.append(nt)\n",
    "data['title'] = new_title\n",
    "data"
   ]
  },
  {
   "cell_type": "code",
   "execution_count": 13,
   "id": "e8e7556f",
   "metadata": {
    "scrolled": false
   },
   "outputs": [
    {
     "name": "stdout",
     "output_type": "stream",
     "text": [
      "중복되지 않은 유니크한 사용자 수 :  6039\n",
      "중복되지 않은 유니크한 영화 갯수 :  3585\n",
      "\n",
      "가장 인기있는 영화 30개\n"
     ]
    },
    {
     "data": {
      "text/plain": [
       "title                                            movie_id\n",
       "American Beauty                                  2858        3211\n",
       "Star Wars: Episode IV - A New Hope               260         2910\n",
       "Star Wars: Episode V - The Empire Strikes Back   1196        2885\n",
       "Star Wars: Episode VI - Return of the Jedi       1210        2716\n",
       "Saving Private Ryan                              2028        2561\n",
       "Terminator 2: Judgment Day                       589         2509\n",
       "Silence of the Lambs, The                        593         2498\n",
       "Raiders of the Lost Ark                          1198        2473\n",
       "Back to the Future                               1270        2460\n",
       "Matrix, The                                      2571        2434\n",
       "Jurassic Park                                    480         2413\n",
       "Sixth Sense, The                                 2762        2385\n",
       "Fargo                                            608         2371\n",
       "Braveheart                                       110         2314\n",
       "Men in Black                                     1580        2297\n",
       "Schindler's List                                 527         2257\n",
       "Princess Bride, The                              1197        2252\n",
       "Shakespeare in Love                              2396        2213\n",
       "L.A. Confidential                                1617        2210\n",
       "Shawshank Redemption, The                        318         2194\n",
       "Godfather, The                                   858         2167\n",
       "Groundhog Day                                    1265        2121\n",
       "E.T. the Extra-Terrestrial                       1097        2102\n",
       "Being John Malkovich                             2997        2066\n",
       "Ghostbusters                                     2716        2051\n",
       "Pulp Fiction                                     296         2030\n",
       "Forrest Gump                                     356         2022\n",
       "Terminator, The                                  1240        2019\n",
       "Toy Story                                        1           2000\n",
       "Fugitive, The                                    457         1941\n",
       "Name: user_id, dtype: int64"
      ]
     },
     "execution_count": 13,
     "metadata": {},
     "output_type": "execute_result"
    }
   ],
   "source": [
    "print('중복되지 않은 유니크한 사용자 수 : ', data['user_id'].nunique())\n",
    "print('중복되지 않은 유니크한 영화 갯수 : ', data['title'].nunique())\n",
    "print()\n",
    "print('가장 인기있는 영화 30개')\n",
    "movie_count = data.groupby(['title','movie_id'])['user_id'].count()\n",
    "movie_count.sort_values(ascending=False).head(30)"
   ]
  },
  {
   "cell_type": "code",
   "execution_count": 14,
   "id": "9703a6e9",
   "metadata": {},
   "outputs": [
    {
     "data": {
      "text/plain": [
       "(6039, 3628, 836478, 836478)"
      ]
     },
     "execution_count": 14,
     "metadata": {},
     "output_type": "execute_result"
    }
   ],
   "source": [
    "data['user_id'].nunique(), data['movie_id'].nunique(), len(data.user_id), len(data.movie_id)"
   ]
  },
  {
   "cell_type": "markdown",
   "id": "515afada",
   "metadata": {},
   "source": [
    "### 모델 검증을 위한 사용자 초기 세팅\n",
    "마치 유튜브 뮤직에 처음 가입했을 때 선호하는 아티스트 정보를 입력하는것과 같은 과정"
   ]
  },
  {
   "cell_type": "code",
   "execution_count": 15,
   "id": "8c34ee2a",
   "metadata": {
    "scrolled": true
   },
   "outputs": [
    {
     "data": {
      "text/html": [
       "<div>\n",
       "<style scoped>\n",
       "    .dataframe tbody tr th:only-of-type {\n",
       "        vertical-align: middle;\n",
       "    }\n",
       "\n",
       "    .dataframe tbody tr th {\n",
       "        vertical-align: top;\n",
       "    }\n",
       "\n",
       "    .dataframe thead th {\n",
       "        text-align: right;\n",
       "    }\n",
       "</style>\n",
       "<table border=\"1\" class=\"dataframe\">\n",
       "  <thead>\n",
       "    <tr style=\"text-align: right;\">\n",
       "      <th></th>\n",
       "      <th>user_id</th>\n",
       "      <th>movie_id</th>\n",
       "      <th>counts</th>\n",
       "      <th>title</th>\n",
       "      <th>genre</th>\n",
       "    </tr>\n",
       "  </thead>\n",
       "  <tbody>\n",
       "    <tr>\n",
       "      <th>836476</th>\n",
       "      <td>6040</td>\n",
       "      <td>1096</td>\n",
       "      <td>4</td>\n",
       "      <td>Sophie's Choice</td>\n",
       "      <td>Drama</td>\n",
       "    </tr>\n",
       "    <tr>\n",
       "      <th>836477</th>\n",
       "      <td>6040</td>\n",
       "      <td>1097</td>\n",
       "      <td>4</td>\n",
       "      <td>E.T. the Extra-Terrestrial</td>\n",
       "      <td>Children's|Drama|Fantasy|Sci-Fi</td>\n",
       "    </tr>\n",
       "    <tr>\n",
       "      <th>0</th>\n",
       "      <td>6041</td>\n",
       "      <td>480</td>\n",
       "      <td>3</td>\n",
       "      <td>Jurassic Park</td>\n",
       "      <td>Action|Adventure|Sci-Fi</td>\n",
       "    </tr>\n",
       "    <tr>\n",
       "      <th>1</th>\n",
       "      <td>6041</td>\n",
       "      <td>1</td>\n",
       "      <td>5</td>\n",
       "      <td>Toy Story</td>\n",
       "      <td>Animation|Children's|Comedy</td>\n",
       "    </tr>\n",
       "    <tr>\n",
       "      <th>2</th>\n",
       "      <td>6041</td>\n",
       "      <td>1580</td>\n",
       "      <td>4</td>\n",
       "      <td>Men in Black</td>\n",
       "      <td>Action|Adventure|Comedy|Sci-Fi</td>\n",
       "    </tr>\n",
       "    <tr>\n",
       "      <th>3</th>\n",
       "      <td>6041</td>\n",
       "      <td>2571</td>\n",
       "      <td>5</td>\n",
       "      <td>Matrix, The</td>\n",
       "      <td>Action|Sci-Fi|Thriller</td>\n",
       "    </tr>\n",
       "    <tr>\n",
       "      <th>4</th>\n",
       "      <td>6041</td>\n",
       "      <td>2028</td>\n",
       "      <td>3</td>\n",
       "      <td>Saving Private Ryan</td>\n",
       "      <td>Action|Drama|War</td>\n",
       "    </tr>\n",
       "  </tbody>\n",
       "</table>\n",
       "</div>"
      ],
      "text/plain": [
       "       user_id  movie_id counts                        title  \\\n",
       "836476    6040      1096      4             Sophie's Choice    \n",
       "836477    6040      1097      4  E.T. the Extra-Terrestrial    \n",
       "0         6041       480      3               Jurassic Park    \n",
       "1         6041         1      5                   Toy Story    \n",
       "2         6041      1580      4                Men in Black    \n",
       "3         6041      2571      5                 Matrix, The    \n",
       "4         6041      2028      3         Saving Private Ryan    \n",
       "\n",
       "                                  genre  \n",
       "836476                            Drama  \n",
       "836477  Children's|Drama|Fantasy|Sci-Fi  \n",
       "0               Action|Adventure|Sci-Fi  \n",
       "1           Animation|Children's|Comedy  \n",
       "2        Action|Adventure|Comedy|Sci-Fi  \n",
       "3                Action|Sci-Fi|Thriller  \n",
       "4                      Action|Drama|War  "
      ]
     },
     "execution_count": 15,
     "metadata": {},
     "output_type": "execute_result"
    }
   ],
   "source": [
    "my_movie_title = ['Jurassic Park ' , 'Toy Story ' ,'Men in Black ' ,'Matrix, The ' ,'Saving Private Ryan ']\n",
    "my_movie_id = []\n",
    "my_genre = []\n",
    "for title in my_movie_title:\n",
    "    id = data[data['title']==title].movie_id.unique()\n",
    "    genres = data[data['title']==title].genre.unique()\n",
    "    for genre in genres:\n",
    "        my_genre.append(genre)\n",
    "    my_movie_id.append(int(id))\n",
    "\n",
    "# '6041'이라는 새로운 user가 위의 영화를 봤다고 가정\n",
    "my_movielist = pd.DataFrame({'user_id':['6041']*5, 'movie_id':my_movie_id, 'counts':['3','5','4','5','3'], 'title':my_movie_title, 'genre':my_genre})\n",
    "\n",
    "if not data.isin({'user_id':['6041']})['user_id'].any():\n",
    "    data = data.append(my_movielist) \n",
    "    \n",
    "data.tail(7)"
   ]
  },
  {
   "cell_type": "code",
   "execution_count": 16,
   "id": "afafa7a9",
   "metadata": {},
   "outputs": [
    {
     "data": {
      "text/html": [
       "<div>\n",
       "<style scoped>\n",
       "    .dataframe tbody tr th:only-of-type {\n",
       "        vertical-align: middle;\n",
       "    }\n",
       "\n",
       "    .dataframe tbody tr th {\n",
       "        vertical-align: top;\n",
       "    }\n",
       "\n",
       "    .dataframe thead th {\n",
       "        text-align: right;\n",
       "    }\n",
       "</style>\n",
       "<table border=\"1\" class=\"dataframe\">\n",
       "  <thead>\n",
       "    <tr style=\"text-align: right;\">\n",
       "      <th></th>\n",
       "      <th>user_id</th>\n",
       "      <th>movie_id</th>\n",
       "      <th>counts</th>\n",
       "    </tr>\n",
       "  </thead>\n",
       "  <tbody>\n",
       "    <tr>\n",
       "      <th>0</th>\n",
       "      <td>1</td>\n",
       "      <td>1193</td>\n",
       "      <td>5</td>\n",
       "    </tr>\n",
       "    <tr>\n",
       "      <th>1</th>\n",
       "      <td>1</td>\n",
       "      <td>661</td>\n",
       "      <td>3</td>\n",
       "    </tr>\n",
       "    <tr>\n",
       "      <th>2</th>\n",
       "      <td>1</td>\n",
       "      <td>914</td>\n",
       "      <td>3</td>\n",
       "    </tr>\n",
       "    <tr>\n",
       "      <th>3</th>\n",
       "      <td>1</td>\n",
       "      <td>3408</td>\n",
       "      <td>4</td>\n",
       "    </tr>\n",
       "    <tr>\n",
       "      <th>4</th>\n",
       "      <td>1</td>\n",
       "      <td>2355</td>\n",
       "      <td>5</td>\n",
       "    </tr>\n",
       "    <tr>\n",
       "      <th>...</th>\n",
       "      <td>...</td>\n",
       "      <td>...</td>\n",
       "      <td>...</td>\n",
       "    </tr>\n",
       "    <tr>\n",
       "      <th>0</th>\n",
       "      <td>6041</td>\n",
       "      <td>480</td>\n",
       "      <td>3</td>\n",
       "    </tr>\n",
       "    <tr>\n",
       "      <th>1</th>\n",
       "      <td>6041</td>\n",
       "      <td>1</td>\n",
       "      <td>5</td>\n",
       "    </tr>\n",
       "    <tr>\n",
       "      <th>2</th>\n",
       "      <td>6041</td>\n",
       "      <td>1580</td>\n",
       "      <td>4</td>\n",
       "    </tr>\n",
       "    <tr>\n",
       "      <th>3</th>\n",
       "      <td>6041</td>\n",
       "      <td>2571</td>\n",
       "      <td>5</td>\n",
       "    </tr>\n",
       "    <tr>\n",
       "      <th>4</th>\n",
       "      <td>6041</td>\n",
       "      <td>2028</td>\n",
       "      <td>3</td>\n",
       "    </tr>\n",
       "  </tbody>\n",
       "</table>\n",
       "<p>836483 rows × 3 columns</p>\n",
       "</div>"
      ],
      "text/plain": [
       "   user_id  movie_id counts\n",
       "0        1      1193      5\n",
       "1        1       661      3\n",
       "2        1       914      3\n",
       "3        1      3408      4\n",
       "4        1      2355      5\n",
       "..     ...       ...    ...\n",
       "0     6041       480      3\n",
       "1     6041         1      5\n",
       "2     6041      1580      4\n",
       "3     6041      2571      5\n",
       "4     6041      2028      3\n",
       "\n",
       "[836483 rows x 3 columns]"
      ]
     },
     "execution_count": 16,
     "metadata": {},
     "output_type": "execute_result"
    }
   ],
   "source": [
    "data = data[['user_id','movie_id','counts']]\n",
    "data"
   ]
  },
  {
   "cell_type": "code",
   "execution_count": 17,
   "id": "ec227e1d",
   "metadata": {},
   "outputs": [
    {
     "data": {
      "text/plain": [
       "(6040, 3628, 836483, 836483)"
      ]
     },
     "execution_count": 17,
     "metadata": {},
     "output_type": "execute_result"
    }
   ],
   "source": [
    "data['user_id'].nunique(), data['movie_id'].nunique(), len(data.user_id), len(data.movie_id)"
   ]
  },
  {
   "cell_type": "code",
   "execution_count": 18,
   "id": "168518f7",
   "metadata": {},
   "outputs": [
    {
     "name": "stderr",
     "output_type": "stream",
     "text": [
      "/tmp/ipykernel_47/3567035826.py:6: DeprecationWarning: `np.int` is a deprecated alias for the builtin `int`. To silence this warning, use `int` by itself. Doing this will not modify any behavior and is safe. When replacing `np.int`, you may wish to use e.g. `np.int64` or `np.int32` to specify the precision. If you wish to review your current use, check the release note link for additional information.\n",
      "Deprecated in NumPy 1.20; for more details and guidance: https://numpy.org/devdocs/release/1.20.0-notes.html#deprecations\n",
      "  csr_data = csr_matrix((data['counts'].astype(np.int), (data.user_id, data.movie_id)), shape=(num_user+2, num_movie+325))\n"
     ]
    },
    {
     "data": {
      "text/plain": [
       "<6042x3953 sparse matrix of type '<class 'numpy.int64'>'\n",
       "\twith 836483 stored elements in Compressed Sparse Row format>"
      ]
     },
     "execution_count": 18,
     "metadata": {},
     "output_type": "execute_result"
    }
   ],
   "source": [
    "from scipy.sparse import csr_matrix\n",
    "\n",
    "num_user = data['user_id'].nunique()\n",
    "num_movie = data['movie_id'].nunique()\n",
    "\n",
    "csr_data = csr_matrix((data['counts'].astype(np.int), (data.user_id, data.movie_id)), shape=(num_user+2, num_movie+325))\n",
    "csr_data"
   ]
  },
  {
   "cell_type": "markdown",
   "id": "b6a136aa",
   "metadata": {},
   "source": [
    "num_user +2 num_movie+325 밑으로는 에러가 뜬다\n",
    "\n",
    "### MF 모델 학습하기\n",
    "Matrix Factorization 모델을 implicit 패키지를 이용해 학습  \n",
    "위의 과정처럼 암묵적(implicit) 데이터셋을 사용하는 다양한 모델을 빠르게 학습할 수 있는 패키지  \n",
    "패키지에 구현된 als(AlternationgLeastSquares) 모델 사용  \n",
    "MF에서 쪼개진 두 Feature Matrix를 한쪽은 고정시키고 다른 쪽을 학습하는 방식을 번갈아 수행"
   ]
  },
  {
   "cell_type": "code",
   "execution_count": 19,
   "id": "c0703287",
   "metadata": {},
   "outputs": [],
   "source": [
    "from implicit.als import AlternatingLeastSquares\n",
    "import os\n",
    "import numpy as np\n",
    "\n",
    "# implicit 라이브러리에서 권장하고 있는 부분입니다. 학습 내용과는 무관합니다.\n",
    "os.environ['OPENBLAS_NUM_THREADS']='1'\n",
    "os.environ['KMP_DUPLICATE_LIB_OK']='True'\n",
    "os.environ['MKL_NUM_THREADS']='1'"
   ]
  },
  {
   "cell_type": "code",
   "execution_count": 20,
   "id": "9b15073c",
   "metadata": {},
   "outputs": [],
   "source": [
    "als_model = AlternatingLeastSquares(factors=100, regularization=0.01, use_gpu=False, iterations=15, dtype=np.float32)"
   ]
  },
  {
   "cell_type": "code",
   "execution_count": 21,
   "id": "cc14933a",
   "metadata": {},
   "outputs": [
    {
     "data": {
      "text/plain": [
       "<3953x6042 sparse matrix of type '<class 'numpy.int64'>'\n",
       "\twith 836483 stored elements in Compressed Sparse Column format>"
      ]
     },
     "execution_count": 21,
     "metadata": {},
     "output_type": "execute_result"
    }
   ],
   "source": [
    "csr_data_transpose = csr_data.T\n",
    "csr_data_transpose"
   ]
  },
  {
   "cell_type": "code",
   "execution_count": 22,
   "id": "1eabc349",
   "metadata": {},
   "outputs": [
    {
     "data": {
      "application/vnd.jupyter.widget-view+json": {
       "model_id": "783ca5d5a1324b60bd756f31aa1367ce",
       "version_major": 2,
       "version_minor": 0
      },
      "text/plain": [
       "  0%|          | 0/15 [00:00<?, ?it/s]"
      ]
     },
     "metadata": {},
     "output_type": "display_data"
    }
   ],
   "source": [
    "als_model.fit(csr_data_transpose)"
   ]
  },
  {
   "cell_type": "code",
   "execution_count": 34,
   "id": "f7f2b950",
   "metadata": {},
   "outputs": [],
   "source": [
    "user = 6041\n",
    "movie = 1      # Toy Story\n",
    "user_vector, movie_vector = als_model.user_factors[user], als_model.item_factors[movie]"
   ]
  },
  {
   "cell_type": "code",
   "execution_count": 35,
   "id": "a6b54051",
   "metadata": {},
   "outputs": [
    {
     "data": {
      "text/plain": [
       "array([ 1.0256681 , -0.00348916, -0.36095428, -0.5286749 , -0.57654184,\n",
       "        0.02609121, -0.20178549, -0.25296095, -0.2567285 ,  0.28880322,\n",
       "        0.610086  , -0.6497106 , -0.21046607,  0.05835624, -0.0802822 ,\n",
       "       -0.38197026,  0.10947122,  0.45736456,  0.296073  , -0.2642908 ,\n",
       "        0.2088239 , -0.5415798 ,  0.11347053,  0.14451443, -0.06700634,\n",
       "       -0.17925969,  0.4323083 ,  0.41024047, -0.9691238 ,  0.01975654,\n",
       "       -0.28790605, -0.28314927, -0.2583255 ,  0.06768577, -0.6274585 ,\n",
       "        0.6301588 ,  0.20145544,  0.16751915,  0.4358338 , -0.45215982,\n",
       "        0.48178202, -0.8781431 ,  0.25808343,  0.9931191 , -0.08109269,\n",
       "       -0.05837012, -0.884421  ,  0.9056777 ,  0.69303894, -0.31462926,\n",
       "       -0.27359655,  0.21334545, -0.58204556,  0.4593435 , -0.3189723 ,\n",
       "       -0.22287013, -0.31219733,  0.4350675 , -0.5430344 ,  0.4792688 ,\n",
       "        0.35904044, -0.3482078 , -0.29912996,  0.11341998,  0.08395538,\n",
       "        0.129358  ,  0.5940903 , -0.12450498,  0.18765602,  0.81040126,\n",
       "       -0.42334628,  0.9516944 ,  0.146218  ,  0.3729803 ,  0.50116247,\n",
       "        0.17010342,  0.08903196, -0.3234799 ,  0.36678955,  0.28982398,\n",
       "       -0.1325115 ,  1.0845203 , -0.20168807, -0.5763275 ,  0.8314684 ,\n",
       "       -0.567153  , -0.74605715, -0.16299666, -0.7080276 , -1.382861  ,\n",
       "        0.55337644, -0.03657957,  0.21028352,  0.47490737, -0.15735324,\n",
       "       -0.20187055,  0.18330067,  0.12745051,  0.8581663 , -0.32862324],\n",
       "      dtype=float32)"
      ]
     },
     "execution_count": 35,
     "metadata": {},
     "output_type": "execute_result"
    }
   ],
   "source": [
    "user_vector"
   ]
  },
  {
   "cell_type": "code",
   "execution_count": 36,
   "id": "f23d1600",
   "metadata": {},
   "outputs": [
    {
     "data": {
      "text/plain": [
       "array([ 0.02064591, -0.00454573,  0.0066245 , -0.01947825, -0.03881786,\n",
       "        0.01159518, -0.0214951 ,  0.0036694 , -0.03294116,  0.03139752,\n",
       "        0.02950642, -0.01283004, -0.00158269,  0.02339784,  0.02203074,\n",
       "       -0.01234919, -0.01056923, -0.01088313,  0.01124414,  0.0002881 ,\n",
       "        0.03237402,  0.01654196,  0.01836842,  0.01445614, -0.0080814 ,\n",
       "       -0.00072291,  0.03302842,  0.01459708,  0.02785322, -0.0056983 ,\n",
       "       -0.01432318, -0.00611616,  0.00344266, -0.01528202,  0.00422884,\n",
       "       -0.00757982,  0.00521856, -0.03630692, -0.00140209,  0.0014673 ,\n",
       "        0.01454916, -0.01106599,  0.01561792,  0.02417636, -0.03072781,\n",
       "        0.01047079, -0.03197246,  0.01534805,  0.0262821 ,  0.00505753,\n",
       "        0.02519928,  0.02814554, -0.02975091,  0.00382239,  0.01545324,\n",
       "       -0.00066674,  0.01881661,  0.02845848, -0.01111969,  0.01625575,\n",
       "       -0.00022475, -0.02436059, -0.01024219, -0.00189158,  0.00172557,\n",
       "        0.01106865,  0.02301583, -0.01340605,  0.02491821,  0.02343434,\n",
       "        0.02015608,  0.03433297, -0.00521048,  0.01485378,  0.02086049,\n",
       "        0.03296011,  0.00625351, -0.02037678,  0.03749077,  0.03747132,\n",
       "       -0.0052184 ,  0.0140703 , -0.00055848, -0.00878939,  0.019605  ,\n",
       "        0.01565544, -0.00643025, -0.02314926,  0.00839329, -0.03245188,\n",
       "        0.03397933,  0.01014711, -0.03724477,  0.0166985 , -0.01944068,\n",
       "        0.00378931,  0.00993052,  0.01278613,  0.03323109,  0.03280937],\n",
       "      dtype=float32)"
      ]
     },
     "execution_count": 36,
     "metadata": {},
     "output_type": "execute_result"
    }
   ],
   "source": [
    "movie_vector"
   ]
  },
  {
   "cell_type": "code",
   "execution_count": 37,
   "id": "6de296a3",
   "metadata": {},
   "outputs": [
    {
     "data": {
      "text/plain": [
       "0.472652"
      ]
     },
     "execution_count": 37,
     "metadata": {},
     "output_type": "execute_result"
    }
   ],
   "source": [
    "np.dot(user_vector, movie_vector)"
   ]
  },
  {
   "cell_type": "code",
   "execution_count": 38,
   "id": "bccc2b91",
   "metadata": {},
   "outputs": [],
   "source": [
    "movie1 = 2571   # Matrix, The\n",
    "user_vector, movie1_vector = als_model.user_factors[user], als_model.item_factors[movie1]"
   ]
  },
  {
   "cell_type": "code",
   "execution_count": 39,
   "id": "87804d18",
   "metadata": {},
   "outputs": [
    {
     "data": {
      "text/plain": [
       "array([ 1.0256681 , -0.00348916, -0.36095428, -0.5286749 , -0.57654184,\n",
       "        0.02609121, -0.20178549, -0.25296095, -0.2567285 ,  0.28880322,\n",
       "        0.610086  , -0.6497106 , -0.21046607,  0.05835624, -0.0802822 ,\n",
       "       -0.38197026,  0.10947122,  0.45736456,  0.296073  , -0.2642908 ,\n",
       "        0.2088239 , -0.5415798 ,  0.11347053,  0.14451443, -0.06700634,\n",
       "       -0.17925969,  0.4323083 ,  0.41024047, -0.9691238 ,  0.01975654,\n",
       "       -0.28790605, -0.28314927, -0.2583255 ,  0.06768577, -0.6274585 ,\n",
       "        0.6301588 ,  0.20145544,  0.16751915,  0.4358338 , -0.45215982,\n",
       "        0.48178202, -0.8781431 ,  0.25808343,  0.9931191 , -0.08109269,\n",
       "       -0.05837012, -0.884421  ,  0.9056777 ,  0.69303894, -0.31462926,\n",
       "       -0.27359655,  0.21334545, -0.58204556,  0.4593435 , -0.3189723 ,\n",
       "       -0.22287013, -0.31219733,  0.4350675 , -0.5430344 ,  0.4792688 ,\n",
       "        0.35904044, -0.3482078 , -0.29912996,  0.11341998,  0.08395538,\n",
       "        0.129358  ,  0.5940903 , -0.12450498,  0.18765602,  0.81040126,\n",
       "       -0.42334628,  0.9516944 ,  0.146218  ,  0.3729803 ,  0.50116247,\n",
       "        0.17010342,  0.08903196, -0.3234799 ,  0.36678955,  0.28982398,\n",
       "       -0.1325115 ,  1.0845203 , -0.20168807, -0.5763275 ,  0.8314684 ,\n",
       "       -0.567153  , -0.74605715, -0.16299666, -0.7080276 , -1.382861  ,\n",
       "        0.55337644, -0.03657957,  0.21028352,  0.47490737, -0.15735324,\n",
       "       -0.20187055,  0.18330067,  0.12745051,  0.8581663 , -0.32862324],\n",
       "      dtype=float32)"
      ]
     },
     "execution_count": 39,
     "metadata": {},
     "output_type": "execute_result"
    }
   ],
   "source": [
    "user_vector"
   ]
  },
  {
   "cell_type": "code",
   "execution_count": 40,
   "id": "40ec5525",
   "metadata": {},
   "outputs": [
    {
     "data": {
      "text/plain": [
       "array([ 2.49709077e-02,  1.69807207e-02,  3.34392581e-03, -4.22837958e-03,\n",
       "       -3.72319780e-02, -7.93248974e-03,  1.44082948e-03,  9.93881561e-03,\n",
       "       -1.11183105e-02, -3.81588680e-03,  6.68503251e-03, -3.38916259e-04,\n",
       "       -1.09196780e-02,  1.15152039e-02, -1.19086951e-02, -2.41642520e-02,\n",
       "        1.47283748e-02,  1.95760168e-02,  1.01522515e-02, -5.11284871e-03,\n",
       "        1.26832596e-03, -2.19278224e-02,  1.27624925e-02,  1.42680639e-02,\n",
       "        1.20877332e-04, -1.17670195e-02,  1.26247318e-03,  2.23286022e-02,\n",
       "       -5.08100027e-03,  1.23929011e-03,  9.78018157e-03,  1.80701166e-02,\n",
       "        3.98643920e-03,  1.42480033e-02, -1.22574642e-02,  2.45908909e-02,\n",
       "        1.06587997e-02,  4.02338132e-02,  1.78884920e-02, -2.42181472e-03,\n",
       "        2.37325467e-02, -2.45931987e-02,  3.83211160e-03,  3.34273912e-02,\n",
       "       -5.24072489e-03,  3.55626736e-03, -2.41291840e-02,  1.75568350e-02,\n",
       "        1.47465235e-02, -4.68457164e-03, -1.19906105e-02,  4.82625765e-04,\n",
       "        3.99727002e-03,  5.49652167e-02, -1.48503194e-02,  2.42399797e-02,\n",
       "       -4.85653058e-03,  8.38383473e-03, -4.52791341e-03,  3.89457718e-02,\n",
       "        2.41416469e-02,  1.85315385e-02,  4.63215541e-03, -6.00738963e-03,\n",
       "        1.68683957e-02, -5.27389767e-03,  2.55341828e-02,  2.06272211e-02,\n",
       "        9.29219462e-03,  3.05041671e-02, -3.36603075e-03,  2.59853657e-02,\n",
       "        2.43000817e-02,  3.57725844e-03,  2.53380723e-02,  1.21738128e-02,\n",
       "        3.12220659e-02,  1.82296876e-02,  1.29411574e-02,  1.21307699e-02,\n",
       "       -6.36659795e-03,  3.33292261e-02, -1.41781652e-02, -3.16868420e-03,\n",
       "        2.60437597e-02,  5.40754809e-05, -2.46021431e-02,  9.52417217e-03,\n",
       "       -2.89968699e-02, -2.62313522e-02,  1.63683817e-02,  1.53229665e-03,\n",
       "        1.50529407e-02,  2.88782734e-02,  1.07765542e-02,  2.78914720e-03,\n",
       "        8.14511254e-03,  1.50185265e-02,  4.31513079e-02, -1.42078269e-02],\n",
       "      dtype=float32)"
      ]
     },
     "execution_count": 40,
     "metadata": {},
     "output_type": "execute_result"
    }
   ],
   "source": [
    "movie1_vector"
   ]
  },
  {
   "cell_type": "code",
   "execution_count": 41,
   "id": "539b9ea7",
   "metadata": {},
   "outputs": [
    {
     "data": {
      "text/plain": [
       "0.60937756"
      ]
     },
     "execution_count": 41,
     "metadata": {},
     "output_type": "execute_result"
    }
   ],
   "source": [
    "np.dot(user_vector, movie1_vector)"
   ]
  },
  {
   "cell_type": "code",
   "execution_count": null,
   "id": "c5be2f60",
   "metadata": {},
   "outputs": [],
   "source": []
  }
 ],
 "metadata": {
  "kernelspec": {
   "display_name": "Python 3 (ipykernel)",
   "language": "python",
   "name": "python3"
  },
  "language_info": {
   "codemirror_mode": {
    "name": "ipython",
    "version": 3
   },
   "file_extension": ".py",
   "mimetype": "text/x-python",
   "name": "python",
   "nbconvert_exporter": "python",
   "pygments_lexer": "ipython3",
   "version": "3.9.7"
  }
 },
 "nbformat": 4,
 "nbformat_minor": 5
}
