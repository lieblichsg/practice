{
 "cells": [
  {
   "cell_type": "code",
   "execution_count": 1,
   "id": "97304bd5",
   "metadata": {},
   "outputs": [],
   "source": [
    "# 1-11. 프로젝트 (1) load_digits : 손글씨를 분류해 봅시다"
   ]
  },
  {
   "cell_type": "code",
   "execution_count": 2,
   "id": "7304bea7",
   "metadata": {},
   "outputs": [],
   "source": [
    "import sklearn\n",
    "import pandas as pd"
   ]
  },
  {
   "cell_type": "code",
   "execution_count": 3,
   "id": "cb6b4d32",
   "metadata": {},
   "outputs": [
    {
     "data": {
      "text/plain": [
       "'1.0'"
      ]
     },
     "execution_count": 3,
     "metadata": {},
     "output_type": "execute_result"
    }
   ],
   "source": [
    "sklearn.__version__"
   ]
  },
  {
   "cell_type": "code",
   "execution_count": 4,
   "id": "5a68cca6",
   "metadata": {},
   "outputs": [],
   "source": [
    "from sklearn.datasets import load_digits\n",
    "from sklearn.model_selection import train_test_split\n",
    "from sklearn.metrics import classification_report"
   ]
  },
  {
   "cell_type": "code",
   "execution_count": 5,
   "id": "1c6f60f0",
   "metadata": {},
   "outputs": [],
   "source": [
    "data = load_digits()"
   ]
  },
  {
   "cell_type": "code",
   "execution_count": 6,
   "id": "dd40c45b",
   "metadata": {},
   "outputs": [
    {
     "name": "stdout",
     "output_type": "stream",
     "text": [
      "{'data': array([[ 0.,  0.,  5., ...,  0.,  0.,  0.],\n",
      "       [ 0.,  0.,  0., ..., 10.,  0.,  0.],\n",
      "       [ 0.,  0.,  0., ..., 16.,  9.,  0.],\n",
      "       ...,\n",
      "       [ 0.,  0.,  1., ...,  6.,  0.,  0.],\n",
      "       [ 0.,  0.,  2., ..., 12.,  0.,  0.],\n",
      "       [ 0.,  0., 10., ..., 12.,  1.,  0.]]), 'target': array([0, 1, 2, ..., 8, 9, 8]), 'frame': None, 'feature_names': ['pixel_0_0', 'pixel_0_1', 'pixel_0_2', 'pixel_0_3', 'pixel_0_4', 'pixel_0_5', 'pixel_0_6', 'pixel_0_7', 'pixel_1_0', 'pixel_1_1', 'pixel_1_2', 'pixel_1_3', 'pixel_1_4', 'pixel_1_5', 'pixel_1_6', 'pixel_1_7', 'pixel_2_0', 'pixel_2_1', 'pixel_2_2', 'pixel_2_3', 'pixel_2_4', 'pixel_2_5', 'pixel_2_6', 'pixel_2_7', 'pixel_3_0', 'pixel_3_1', 'pixel_3_2', 'pixel_3_3', 'pixel_3_4', 'pixel_3_5', 'pixel_3_6', 'pixel_3_7', 'pixel_4_0', 'pixel_4_1', 'pixel_4_2', 'pixel_4_3', 'pixel_4_4', 'pixel_4_5', 'pixel_4_6', 'pixel_4_7', 'pixel_5_0', 'pixel_5_1', 'pixel_5_2', 'pixel_5_3', 'pixel_5_4', 'pixel_5_5', 'pixel_5_6', 'pixel_5_7', 'pixel_6_0', 'pixel_6_1', 'pixel_6_2', 'pixel_6_3', 'pixel_6_4', 'pixel_6_5', 'pixel_6_6', 'pixel_6_7', 'pixel_7_0', 'pixel_7_1', 'pixel_7_2', 'pixel_7_3', 'pixel_7_4', 'pixel_7_5', 'pixel_7_6', 'pixel_7_7'], 'target_names': array([0, 1, 2, 3, 4, 5, 6, 7, 8, 9]), 'images': array([[[ 0.,  0.,  5., ...,  1.,  0.,  0.],\n",
      "        [ 0.,  0., 13., ..., 15.,  5.,  0.],\n",
      "        [ 0.,  3., 15., ..., 11.,  8.,  0.],\n",
      "        ...,\n",
      "        [ 0.,  4., 11., ..., 12.,  7.,  0.],\n",
      "        [ 0.,  2., 14., ..., 12.,  0.,  0.],\n",
      "        [ 0.,  0.,  6., ...,  0.,  0.,  0.]],\n",
      "\n",
      "       [[ 0.,  0.,  0., ...,  5.,  0.,  0.],\n",
      "        [ 0.,  0.,  0., ...,  9.,  0.,  0.],\n",
      "        [ 0.,  0.,  3., ...,  6.,  0.,  0.],\n",
      "        ...,\n",
      "        [ 0.,  0.,  1., ...,  6.,  0.,  0.],\n",
      "        [ 0.,  0.,  1., ...,  6.,  0.,  0.],\n",
      "        [ 0.,  0.,  0., ..., 10.,  0.,  0.]],\n",
      "\n",
      "       [[ 0.,  0.,  0., ..., 12.,  0.,  0.],\n",
      "        [ 0.,  0.,  3., ..., 14.,  0.,  0.],\n",
      "        [ 0.,  0.,  8., ..., 16.,  0.,  0.],\n",
      "        ...,\n",
      "        [ 0.,  9., 16., ...,  0.,  0.,  0.],\n",
      "        [ 0.,  3., 13., ..., 11.,  5.,  0.],\n",
      "        [ 0.,  0.,  0., ..., 16.,  9.,  0.]],\n",
      "\n",
      "       ...,\n",
      "\n",
      "       [[ 0.,  0.,  1., ...,  1.,  0.,  0.],\n",
      "        [ 0.,  0., 13., ...,  2.,  1.,  0.],\n",
      "        [ 0.,  0., 16., ..., 16.,  5.,  0.],\n",
      "        ...,\n",
      "        [ 0.,  0., 16., ..., 15.,  0.,  0.],\n",
      "        [ 0.,  0., 15., ..., 16.,  0.,  0.],\n",
      "        [ 0.,  0.,  2., ...,  6.,  0.,  0.]],\n",
      "\n",
      "       [[ 0.,  0.,  2., ...,  0.,  0.,  0.],\n",
      "        [ 0.,  0., 14., ..., 15.,  1.,  0.],\n",
      "        [ 0.,  4., 16., ..., 16.,  7.,  0.],\n",
      "        ...,\n",
      "        [ 0.,  0.,  0., ..., 16.,  2.,  0.],\n",
      "        [ 0.,  0.,  4., ..., 16.,  2.,  0.],\n",
      "        [ 0.,  0.,  5., ..., 12.,  0.,  0.]],\n",
      "\n",
      "       [[ 0.,  0., 10., ...,  1.,  0.,  0.],\n",
      "        [ 0.,  2., 16., ...,  1.,  0.,  0.],\n",
      "        [ 0.,  0., 15., ..., 15.,  0.,  0.],\n",
      "        ...,\n",
      "        [ 0.,  4., 16., ..., 16.,  6.,  0.],\n",
      "        [ 0.,  8., 16., ..., 16.,  8.,  0.],\n",
      "        [ 0.,  1.,  8., ..., 12.,  1.,  0.]]]), 'DESCR': \".. _digits_dataset:\\n\\nOptical recognition of handwritten digits dataset\\n--------------------------------------------------\\n\\n**Data Set Characteristics:**\\n\\n    :Number of Instances: 1797\\n    :Number of Attributes: 64\\n    :Attribute Information: 8x8 image of integer pixels in the range 0..16.\\n    :Missing Attribute Values: None\\n    :Creator: E. Alpaydin (alpaydin '@' boun.edu.tr)\\n    :Date: July; 1998\\n\\nThis is a copy of the test set of the UCI ML hand-written digits datasets\\nhttps://archive.ics.uci.edu/ml/datasets/Optical+Recognition+of+Handwritten+Digits\\n\\nThe data set contains images of hand-written digits: 10 classes where\\neach class refers to a digit.\\n\\nPreprocessing programs made available by NIST were used to extract\\nnormalized bitmaps of handwritten digits from a preprinted form. From a\\ntotal of 43 people, 30 contributed to the training set and different 13\\nto the test set. 32x32 bitmaps are divided into nonoverlapping blocks of\\n4x4 and the number of on pixels are counted in each block. This generates\\nan input matrix of 8x8 where each element is an integer in the range\\n0..16. This reduces dimensionality and gives invariance to small\\ndistortions.\\n\\nFor info on NIST preprocessing routines, see M. D. Garris, J. L. Blue, G.\\nT. Candela, D. L. Dimmick, J. Geist, P. J. Grother, S. A. Janet, and C.\\nL. Wilson, NIST Form-Based Handprint Recognition System, NISTIR 5469,\\n1994.\\n\\n.. topic:: References\\n\\n  - C. Kaynak (1995) Methods of Combining Multiple Classifiers and Their\\n    Applications to Handwritten Digit Recognition, MSc Thesis, Institute of\\n    Graduate Studies in Science and Engineering, Bogazici University.\\n  - E. Alpaydin, C. Kaynak (1998) Cascading Classifiers, Kybernetika.\\n  - Ken Tang and Ponnuthurai N. Suganthan and Xi Yao and A. Kai Qin.\\n    Linear dimensionalityreduction using relevance weighted LDA. School of\\n    Electrical and Electronic Engineering Nanyang Technological University.\\n    2005.\\n  - Claudio Gentile. A New Approximate Maximal Margin Classification\\n    Algorithm. NIPS. 2000.\\n\"}\n"
     ]
    }
   ],
   "source": [
    "print(data)"
   ]
  },
  {
   "cell_type": "code",
   "execution_count": 7,
   "id": "539461e2",
   "metadata": {},
   "outputs": [
    {
     "data": {
      "text/plain": [
       "dict_keys(['data', 'target', 'frame', 'feature_names', 'target_names', 'images', 'DESCR'])"
      ]
     },
     "execution_count": 7,
     "metadata": {},
     "output_type": "execute_result"
    }
   ],
   "source": [
    "data.keys()"
   ]
  },
  {
   "cell_type": "code",
   "execution_count": 8,
   "id": "39a5e0f2",
   "metadata": {},
   "outputs": [
    {
     "data": {
      "text/plain": [
       "(1797, 64)"
      ]
     },
     "execution_count": 8,
     "metadata": {},
     "output_type": "execute_result"
    }
   ],
   "source": [
    "digits_data = data.data       # feature 부분 1797행 64열\n",
    "digits_data.shape             "
   ]
  },
  {
   "cell_type": "code",
   "execution_count": 9,
   "id": "a37ab274",
   "metadata": {},
   "outputs": [
    {
     "data": {
      "text/plain": [
       "1797"
      ]
     },
     "execution_count": 9,
     "metadata": {},
     "output_type": "execute_result"
    }
   ],
   "source": [
    "digits_label = data.target    # 결과값\n",
    "len(digits_label)"
   ]
  },
  {
   "cell_type": "code",
   "execution_count": 10,
   "id": "935d9d08",
   "metadata": {},
   "outputs": [
    {
     "data": {
      "text/plain": [
       "array([0, 1, 2, 3, 4, 5, 6, 7, 8, 9])"
      ]
     },
     "execution_count": 10,
     "metadata": {},
     "output_type": "execute_result"
    }
   ],
   "source": [
    "data.target_names             "
   ]
  },
  {
   "cell_type": "code",
   "execution_count": 11,
   "id": "0a046f2b",
   "metadata": {
    "scrolled": true
   },
   "outputs": [
    {
     "name": "stdout",
     "output_type": "stream",
     "text": [
      ".. _digits_dataset:\n",
      "\n",
      "Optical recognition of handwritten digits dataset\n",
      "--------------------------------------------------\n",
      "\n",
      "**Data Set Characteristics:**\n",
      "\n",
      "    :Number of Instances: 1797\n",
      "    :Number of Attributes: 64\n",
      "    :Attribute Information: 8x8 image of integer pixels in the range 0..16.\n",
      "    :Missing Attribute Values: None\n",
      "    :Creator: E. Alpaydin (alpaydin '@' boun.edu.tr)\n",
      "    :Date: July; 1998\n",
      "\n",
      "This is a copy of the test set of the UCI ML hand-written digits datasets\n",
      "https://archive.ics.uci.edu/ml/datasets/Optical+Recognition+of+Handwritten+Digits\n",
      "\n",
      "The data set contains images of hand-written digits: 10 classes where\n",
      "each class refers to a digit.\n",
      "\n",
      "Preprocessing programs made available by NIST were used to extract\n",
      "normalized bitmaps of handwritten digits from a preprinted form. From a\n",
      "total of 43 people, 30 contributed to the training set and different 13\n",
      "to the test set. 32x32 bitmaps are divided into nonoverlapping blocks of\n",
      "4x4 and the number of on pixels are counted in each block. This generates\n",
      "an input matrix of 8x8 where each element is an integer in the range\n",
      "0..16. This reduces dimensionality and gives invariance to small\n",
      "distortions.\n",
      "\n",
      "For info on NIST preprocessing routines, see M. D. Garris, J. L. Blue, G.\n",
      "T. Candela, D. L. Dimmick, J. Geist, P. J. Grother, S. A. Janet, and C.\n",
      "L. Wilson, NIST Form-Based Handprint Recognition System, NISTIR 5469,\n",
      "1994.\n",
      "\n",
      ".. topic:: References\n",
      "\n",
      "  - C. Kaynak (1995) Methods of Combining Multiple Classifiers and Their\n",
      "    Applications to Handwritten Digit Recognition, MSc Thesis, Institute of\n",
      "    Graduate Studies in Science and Engineering, Bogazici University.\n",
      "  - E. Alpaydin, C. Kaynak (1998) Cascading Classifiers, Kybernetika.\n",
      "  - Ken Tang and Ponnuthurai N. Suganthan and Xi Yao and A. Kai Qin.\n",
      "    Linear dimensionalityreduction using relevance weighted LDA. School of\n",
      "    Electrical and Electronic Engineering Nanyang Technological University.\n",
      "    2005.\n",
      "  - Claudio Gentile. A New Approximate Maximal Margin Classification\n",
      "    Algorithm. NIPS. 2000.\n",
      "\n"
     ]
    }
   ],
   "source": [
    "print(data.DESCR)"
   ]
  },
  {
   "cell_type": "code",
   "execution_count": 12,
   "id": "c9162e13",
   "metadata": {},
   "outputs": [],
   "source": [
    "df = pd.DataFrame(data=digits_data, columns=data.feature_names)"
   ]
  },
  {
   "cell_type": "code",
   "execution_count": 13,
   "id": "192d72a3",
   "metadata": {
    "scrolled": true
   },
   "outputs": [
    {
     "data": {
      "text/html": [
       "<div>\n",
       "<style scoped>\n",
       "    .dataframe tbody tr th:only-of-type {\n",
       "        vertical-align: middle;\n",
       "    }\n",
       "\n",
       "    .dataframe tbody tr th {\n",
       "        vertical-align: top;\n",
       "    }\n",
       "\n",
       "    .dataframe thead th {\n",
       "        text-align: right;\n",
       "    }\n",
       "</style>\n",
       "<table border=\"1\" class=\"dataframe\">\n",
       "  <thead>\n",
       "    <tr style=\"text-align: right;\">\n",
       "      <th></th>\n",
       "      <th>pixel_0_0</th>\n",
       "      <th>pixel_0_1</th>\n",
       "      <th>pixel_0_2</th>\n",
       "      <th>pixel_0_3</th>\n",
       "      <th>pixel_0_4</th>\n",
       "      <th>pixel_0_5</th>\n",
       "      <th>pixel_0_6</th>\n",
       "      <th>pixel_0_7</th>\n",
       "      <th>pixel_1_0</th>\n",
       "      <th>pixel_1_1</th>\n",
       "      <th>...</th>\n",
       "      <th>pixel_6_7</th>\n",
       "      <th>pixel_7_0</th>\n",
       "      <th>pixel_7_1</th>\n",
       "      <th>pixel_7_2</th>\n",
       "      <th>pixel_7_3</th>\n",
       "      <th>pixel_7_4</th>\n",
       "      <th>pixel_7_5</th>\n",
       "      <th>pixel_7_6</th>\n",
       "      <th>pixel_7_7</th>\n",
       "      <th>label</th>\n",
       "    </tr>\n",
       "  </thead>\n",
       "  <tbody>\n",
       "    <tr>\n",
       "      <th>0</th>\n",
       "      <td>0.0</td>\n",
       "      <td>0.0</td>\n",
       "      <td>5.0</td>\n",
       "      <td>13.0</td>\n",
       "      <td>9.0</td>\n",
       "      <td>1.0</td>\n",
       "      <td>0.0</td>\n",
       "      <td>0.0</td>\n",
       "      <td>0.0</td>\n",
       "      <td>0.0</td>\n",
       "      <td>...</td>\n",
       "      <td>0.0</td>\n",
       "      <td>0.0</td>\n",
       "      <td>0.0</td>\n",
       "      <td>6.0</td>\n",
       "      <td>13.0</td>\n",
       "      <td>10.0</td>\n",
       "      <td>0.0</td>\n",
       "      <td>0.0</td>\n",
       "      <td>0.0</td>\n",
       "      <td>0</td>\n",
       "    </tr>\n",
       "    <tr>\n",
       "      <th>1</th>\n",
       "      <td>0.0</td>\n",
       "      <td>0.0</td>\n",
       "      <td>0.0</td>\n",
       "      <td>12.0</td>\n",
       "      <td>13.0</td>\n",
       "      <td>5.0</td>\n",
       "      <td>0.0</td>\n",
       "      <td>0.0</td>\n",
       "      <td>0.0</td>\n",
       "      <td>0.0</td>\n",
       "      <td>...</td>\n",
       "      <td>0.0</td>\n",
       "      <td>0.0</td>\n",
       "      <td>0.0</td>\n",
       "      <td>0.0</td>\n",
       "      <td>11.0</td>\n",
       "      <td>16.0</td>\n",
       "      <td>10.0</td>\n",
       "      <td>0.0</td>\n",
       "      <td>0.0</td>\n",
       "      <td>1</td>\n",
       "    </tr>\n",
       "    <tr>\n",
       "      <th>2</th>\n",
       "      <td>0.0</td>\n",
       "      <td>0.0</td>\n",
       "      <td>0.0</td>\n",
       "      <td>4.0</td>\n",
       "      <td>15.0</td>\n",
       "      <td>12.0</td>\n",
       "      <td>0.0</td>\n",
       "      <td>0.0</td>\n",
       "      <td>0.0</td>\n",
       "      <td>0.0</td>\n",
       "      <td>...</td>\n",
       "      <td>0.0</td>\n",
       "      <td>0.0</td>\n",
       "      <td>0.0</td>\n",
       "      <td>0.0</td>\n",
       "      <td>3.0</td>\n",
       "      <td>11.0</td>\n",
       "      <td>16.0</td>\n",
       "      <td>9.0</td>\n",
       "      <td>0.0</td>\n",
       "      <td>2</td>\n",
       "    </tr>\n",
       "    <tr>\n",
       "      <th>3</th>\n",
       "      <td>0.0</td>\n",
       "      <td>0.0</td>\n",
       "      <td>7.0</td>\n",
       "      <td>15.0</td>\n",
       "      <td>13.0</td>\n",
       "      <td>1.0</td>\n",
       "      <td>0.0</td>\n",
       "      <td>0.0</td>\n",
       "      <td>0.0</td>\n",
       "      <td>8.0</td>\n",
       "      <td>...</td>\n",
       "      <td>0.0</td>\n",
       "      <td>0.0</td>\n",
       "      <td>0.0</td>\n",
       "      <td>7.0</td>\n",
       "      <td>13.0</td>\n",
       "      <td>13.0</td>\n",
       "      <td>9.0</td>\n",
       "      <td>0.0</td>\n",
       "      <td>0.0</td>\n",
       "      <td>3</td>\n",
       "    </tr>\n",
       "    <tr>\n",
       "      <th>4</th>\n",
       "      <td>0.0</td>\n",
       "      <td>0.0</td>\n",
       "      <td>0.0</td>\n",
       "      <td>1.0</td>\n",
       "      <td>11.0</td>\n",
       "      <td>0.0</td>\n",
       "      <td>0.0</td>\n",
       "      <td>0.0</td>\n",
       "      <td>0.0</td>\n",
       "      <td>0.0</td>\n",
       "      <td>...</td>\n",
       "      <td>0.0</td>\n",
       "      <td>0.0</td>\n",
       "      <td>0.0</td>\n",
       "      <td>0.0</td>\n",
       "      <td>2.0</td>\n",
       "      <td>16.0</td>\n",
       "      <td>4.0</td>\n",
       "      <td>0.0</td>\n",
       "      <td>0.0</td>\n",
       "      <td>4</td>\n",
       "    </tr>\n",
       "    <tr>\n",
       "      <th>...</th>\n",
       "      <td>...</td>\n",
       "      <td>...</td>\n",
       "      <td>...</td>\n",
       "      <td>...</td>\n",
       "      <td>...</td>\n",
       "      <td>...</td>\n",
       "      <td>...</td>\n",
       "      <td>...</td>\n",
       "      <td>...</td>\n",
       "      <td>...</td>\n",
       "      <td>...</td>\n",
       "      <td>...</td>\n",
       "      <td>...</td>\n",
       "      <td>...</td>\n",
       "      <td>...</td>\n",
       "      <td>...</td>\n",
       "      <td>...</td>\n",
       "      <td>...</td>\n",
       "      <td>...</td>\n",
       "      <td>...</td>\n",
       "      <td>...</td>\n",
       "    </tr>\n",
       "    <tr>\n",
       "      <th>1792</th>\n",
       "      <td>0.0</td>\n",
       "      <td>0.0</td>\n",
       "      <td>4.0</td>\n",
       "      <td>10.0</td>\n",
       "      <td>13.0</td>\n",
       "      <td>6.0</td>\n",
       "      <td>0.0</td>\n",
       "      <td>0.0</td>\n",
       "      <td>0.0</td>\n",
       "      <td>1.0</td>\n",
       "      <td>...</td>\n",
       "      <td>0.0</td>\n",
       "      <td>0.0</td>\n",
       "      <td>0.0</td>\n",
       "      <td>2.0</td>\n",
       "      <td>14.0</td>\n",
       "      <td>15.0</td>\n",
       "      <td>9.0</td>\n",
       "      <td>0.0</td>\n",
       "      <td>0.0</td>\n",
       "      <td>9</td>\n",
       "    </tr>\n",
       "    <tr>\n",
       "      <th>1793</th>\n",
       "      <td>0.0</td>\n",
       "      <td>0.0</td>\n",
       "      <td>6.0</td>\n",
       "      <td>16.0</td>\n",
       "      <td>13.0</td>\n",
       "      <td>11.0</td>\n",
       "      <td>1.0</td>\n",
       "      <td>0.0</td>\n",
       "      <td>0.0</td>\n",
       "      <td>0.0</td>\n",
       "      <td>...</td>\n",
       "      <td>0.0</td>\n",
       "      <td>0.0</td>\n",
       "      <td>0.0</td>\n",
       "      <td>6.0</td>\n",
       "      <td>16.0</td>\n",
       "      <td>14.0</td>\n",
       "      <td>6.0</td>\n",
       "      <td>0.0</td>\n",
       "      <td>0.0</td>\n",
       "      <td>0</td>\n",
       "    </tr>\n",
       "    <tr>\n",
       "      <th>1794</th>\n",
       "      <td>0.0</td>\n",
       "      <td>0.0</td>\n",
       "      <td>1.0</td>\n",
       "      <td>11.0</td>\n",
       "      <td>15.0</td>\n",
       "      <td>1.0</td>\n",
       "      <td>0.0</td>\n",
       "      <td>0.0</td>\n",
       "      <td>0.0</td>\n",
       "      <td>0.0</td>\n",
       "      <td>...</td>\n",
       "      <td>0.0</td>\n",
       "      <td>0.0</td>\n",
       "      <td>0.0</td>\n",
       "      <td>2.0</td>\n",
       "      <td>9.0</td>\n",
       "      <td>13.0</td>\n",
       "      <td>6.0</td>\n",
       "      <td>0.0</td>\n",
       "      <td>0.0</td>\n",
       "      <td>8</td>\n",
       "    </tr>\n",
       "    <tr>\n",
       "      <th>1795</th>\n",
       "      <td>0.0</td>\n",
       "      <td>0.0</td>\n",
       "      <td>2.0</td>\n",
       "      <td>10.0</td>\n",
       "      <td>7.0</td>\n",
       "      <td>0.0</td>\n",
       "      <td>0.0</td>\n",
       "      <td>0.0</td>\n",
       "      <td>0.0</td>\n",
       "      <td>0.0</td>\n",
       "      <td>...</td>\n",
       "      <td>0.0</td>\n",
       "      <td>0.0</td>\n",
       "      <td>0.0</td>\n",
       "      <td>5.0</td>\n",
       "      <td>12.0</td>\n",
       "      <td>16.0</td>\n",
       "      <td>12.0</td>\n",
       "      <td>0.0</td>\n",
       "      <td>0.0</td>\n",
       "      <td>9</td>\n",
       "    </tr>\n",
       "    <tr>\n",
       "      <th>1796</th>\n",
       "      <td>0.0</td>\n",
       "      <td>0.0</td>\n",
       "      <td>10.0</td>\n",
       "      <td>14.0</td>\n",
       "      <td>8.0</td>\n",
       "      <td>1.0</td>\n",
       "      <td>0.0</td>\n",
       "      <td>0.0</td>\n",
       "      <td>0.0</td>\n",
       "      <td>2.0</td>\n",
       "      <td>...</td>\n",
       "      <td>0.0</td>\n",
       "      <td>0.0</td>\n",
       "      <td>1.0</td>\n",
       "      <td>8.0</td>\n",
       "      <td>12.0</td>\n",
       "      <td>14.0</td>\n",
       "      <td>12.0</td>\n",
       "      <td>1.0</td>\n",
       "      <td>0.0</td>\n",
       "      <td>8</td>\n",
       "    </tr>\n",
       "  </tbody>\n",
       "</table>\n",
       "<p>1797 rows × 65 columns</p>\n",
       "</div>"
      ],
      "text/plain": [
       "      pixel_0_0  pixel_0_1  pixel_0_2  pixel_0_3  pixel_0_4  pixel_0_5  \\\n",
       "0           0.0        0.0        5.0       13.0        9.0        1.0   \n",
       "1           0.0        0.0        0.0       12.0       13.0        5.0   \n",
       "2           0.0        0.0        0.0        4.0       15.0       12.0   \n",
       "3           0.0        0.0        7.0       15.0       13.0        1.0   \n",
       "4           0.0        0.0        0.0        1.0       11.0        0.0   \n",
       "...         ...        ...        ...        ...        ...        ...   \n",
       "1792        0.0        0.0        4.0       10.0       13.0        6.0   \n",
       "1793        0.0        0.0        6.0       16.0       13.0       11.0   \n",
       "1794        0.0        0.0        1.0       11.0       15.0        1.0   \n",
       "1795        0.0        0.0        2.0       10.0        7.0        0.0   \n",
       "1796        0.0        0.0       10.0       14.0        8.0        1.0   \n",
       "\n",
       "      pixel_0_6  pixel_0_7  pixel_1_0  pixel_1_1  ...  pixel_6_7  pixel_7_0  \\\n",
       "0           0.0        0.0        0.0        0.0  ...        0.0        0.0   \n",
       "1           0.0        0.0        0.0        0.0  ...        0.0        0.0   \n",
       "2           0.0        0.0        0.0        0.0  ...        0.0        0.0   \n",
       "3           0.0        0.0        0.0        8.0  ...        0.0        0.0   \n",
       "4           0.0        0.0        0.0        0.0  ...        0.0        0.0   \n",
       "...         ...        ...        ...        ...  ...        ...        ...   \n",
       "1792        0.0        0.0        0.0        1.0  ...        0.0        0.0   \n",
       "1793        1.0        0.0        0.0        0.0  ...        0.0        0.0   \n",
       "1794        0.0        0.0        0.0        0.0  ...        0.0        0.0   \n",
       "1795        0.0        0.0        0.0        0.0  ...        0.0        0.0   \n",
       "1796        0.0        0.0        0.0        2.0  ...        0.0        0.0   \n",
       "\n",
       "      pixel_7_1  pixel_7_2  pixel_7_3  pixel_7_4  pixel_7_5  pixel_7_6  \\\n",
       "0           0.0        6.0       13.0       10.0        0.0        0.0   \n",
       "1           0.0        0.0       11.0       16.0       10.0        0.0   \n",
       "2           0.0        0.0        3.0       11.0       16.0        9.0   \n",
       "3           0.0        7.0       13.0       13.0        9.0        0.0   \n",
       "4           0.0        0.0        2.0       16.0        4.0        0.0   \n",
       "...         ...        ...        ...        ...        ...        ...   \n",
       "1792        0.0        2.0       14.0       15.0        9.0        0.0   \n",
       "1793        0.0        6.0       16.0       14.0        6.0        0.0   \n",
       "1794        0.0        2.0        9.0       13.0        6.0        0.0   \n",
       "1795        0.0        5.0       12.0       16.0       12.0        0.0   \n",
       "1796        1.0        8.0       12.0       14.0       12.0        1.0   \n",
       "\n",
       "      pixel_7_7  label  \n",
       "0           0.0      0  \n",
       "1           0.0      1  \n",
       "2           0.0      2  \n",
       "3           0.0      3  \n",
       "4           0.0      4  \n",
       "...         ...    ...  \n",
       "1792        0.0      9  \n",
       "1793        0.0      0  \n",
       "1794        0.0      8  \n",
       "1795        0.0      9  \n",
       "1796        0.0      8  \n",
       "\n",
       "[1797 rows x 65 columns]"
      ]
     },
     "execution_count": 13,
     "metadata": {},
     "output_type": "execute_result"
    }
   ],
   "source": [
    "df['label'] = digits_label\n",
    "df"
   ]
  },
  {
   "cell_type": "code",
   "execution_count": 14,
   "id": "ccbea4a5",
   "metadata": {},
   "outputs": [],
   "source": [
    "X_train, X_test, y_train, y_test = train_test_split(digits_data, digits_label,test_size=0.2, random_state=3)"
   ]
  },
  {
   "cell_type": "code",
   "execution_count": 15,
   "id": "f430c075",
   "metadata": {},
   "outputs": [
    {
     "data": {
      "text/plain": [
       "(1437, 64)"
      ]
     },
     "execution_count": 15,
     "metadata": {},
     "output_type": "execute_result"
    }
   ],
   "source": [
    "X_train.shape"
   ]
  },
  {
   "cell_type": "code",
   "execution_count": 16,
   "id": "7a14ffc9",
   "metadata": {},
   "outputs": [
    {
     "data": {
      "text/plain": [
       "(360, 64)"
      ]
     },
     "execution_count": 16,
     "metadata": {},
     "output_type": "execute_result"
    }
   ],
   "source": [
    "X_test.shape"
   ]
  },
  {
   "cell_type": "code",
   "execution_count": null,
   "id": "45a3da99",
   "metadata": {},
   "outputs": [],
   "source": []
  },
  {
   "cell_type": "code",
   "execution_count": 17,
   "id": "bc210beb",
   "metadata": {},
   "outputs": [],
   "source": [
    "# 의사결정나무 "
   ]
  },
  {
   "cell_type": "code",
   "execution_count": 18,
   "id": "6a04a39b",
   "metadata": {},
   "outputs": [],
   "source": [
    "from sklearn.tree import DecisionTreeClassifier\n",
    "\n",
    "decision_tree = DecisionTreeClassifier(random_state=4)"
   ]
  },
  {
   "cell_type": "code",
   "execution_count": 19,
   "id": "22551317",
   "metadata": {},
   "outputs": [
    {
     "data": {
      "text/plain": [
       "DecisionTreeClassifier(random_state=4)"
      ]
     },
     "execution_count": 19,
     "metadata": {},
     "output_type": "execute_result"
    }
   ],
   "source": [
    "decision_tree.fit(X_train, y_train)"
   ]
  },
  {
   "cell_type": "code",
   "execution_count": 20,
   "id": "a718536c",
   "metadata": {},
   "outputs": [],
   "source": [
    "y_pred = decision_tree.predict(X_test)"
   ]
  },
  {
   "cell_type": "code",
   "execution_count": 21,
   "id": "74f99599",
   "metadata": {},
   "outputs": [
    {
     "data": {
      "text/plain": [
       "array([0, 4, 1, 2, 0, 0, 8, 7, 6, 6, 3, 6, 9, 7, 4, 7, 4, 3, 2, 6, 7, 3,\n",
       "       4, 7, 1, 0, 7, 4, 8, 3, 4, 0, 5, 5, 5, 1, 2, 9, 0, 0, 0, 8, 2, 3,\n",
       "       5, 0, 2, 7, 1, 3, 8, 4, 2, 9, 6, 0, 4, 3, 9, 4, 3, 9, 9, 5, 0, 3,\n",
       "       7, 4, 9, 1, 3, 0, 9, 3, 0, 2, 7, 8, 1, 7, 1, 3, 3, 2, 2, 3, 8, 2,\n",
       "       4, 6, 9, 5, 8, 4, 7, 2, 7, 2, 5, 6, 5, 6, 1, 0, 6, 4, 3, 1, 5, 6,\n",
       "       8, 8, 8, 6, 0, 0, 2, 4, 9, 0, 8, 5, 8, 9, 7, 0, 5, 9, 0, 1, 8, 4,\n",
       "       4, 9, 6, 2, 2, 7, 1, 3, 5, 8, 5, 2, 7, 4, 9, 2, 0, 0, 9, 2, 9, 4,\n",
       "       0, 9, 7, 0, 1, 4, 1, 3, 6, 7, 9, 1, 9, 7, 2, 7, 7, 0, 5, 3, 4, 0,\n",
       "       5, 1, 8, 0, 3, 0, 1, 9, 5, 1, 8, 2, 6, 0, 9, 7, 8, 8, 7, 3, 0, 3,\n",
       "       6, 3, 6, 3, 7, 9, 0, 8, 7, 6, 5, 3, 1, 0, 4, 7, 1, 0, 5, 3, 9, 3,\n",
       "       2, 3, 5, 0, 7, 4, 5, 3, 0, 0, 5, 7, 5, 2, 4, 2, 9, 3, 3, 0, 7, 3,\n",
       "       2, 3, 1, 7, 0, 7, 4, 9, 2, 1, 1, 4, 7, 2, 7, 3, 3, 5, 2, 3, 0, 9,\n",
       "       2, 0, 7, 6, 5, 4, 3, 1, 1, 1, 8, 0, 7, 4, 7, 4, 2, 4, 9, 5, 0, 3,\n",
       "       0, 5, 5, 3, 6, 1, 4, 3, 8, 5, 7, 7, 4, 6, 4, 2, 3, 0, 1, 9, 7, 7,\n",
       "       9, 3, 4, 8, 9, 5, 2, 2, 1, 7, 8, 3, 9, 8, 4, 4, 2, 5, 5, 0, 1, 9,\n",
       "       1, 0, 9, 1, 4, 0, 6, 9, 9, 7, 1, 1, 5, 0, 8, 2, 4, 3, 3, 6, 4, 7,\n",
       "       6, 6, 8, 3, 6, 6, 1, 0])"
      ]
     },
     "execution_count": 21,
     "metadata": {},
     "output_type": "execute_result"
    }
   ],
   "source": [
    "y_pred"
   ]
  },
  {
   "cell_type": "code",
   "execution_count": 22,
   "id": "5e015e92",
   "metadata": {
    "scrolled": true
   },
   "outputs": [
    {
     "data": {
      "text/plain": [
       "array([0, 4, 1, 2, 0, 0, 8, 7, 6, 6, 3, 6, 9, 7, 4, 7, 4, 3, 2, 6, 4, 3,\n",
       "       4, 7, 1, 0, 7, 4, 8, 3, 4, 0, 5, 5, 5, 1, 2, 9, 0, 0, 0, 8, 2, 3,\n",
       "       7, 0, 1, 7, 1, 3, 8, 4, 2, 9, 6, 0, 4, 5, 4, 4, 7, 9, 9, 5, 0, 3,\n",
       "       7, 4, 9, 1, 8, 0, 9, 3, 0, 2, 7, 8, 1, 6, 9, 3, 3, 2, 2, 3, 8, 2,\n",
       "       4, 6, 9, 5, 8, 4, 7, 3, 7, 2, 5, 6, 5, 6, 1, 0, 6, 4, 8, 1, 5, 6,\n",
       "       8, 8, 8, 6, 4, 0, 2, 7, 5, 0, 8, 5, 8, 4, 7, 0, 5, 9, 0, 1, 8, 4,\n",
       "       7, 9, 6, 1, 2, 7, 1, 3, 5, 3, 5, 2, 7, 4, 9, 2, 0, 0, 9, 2, 8, 4,\n",
       "       0, 9, 7, 0, 1, 4, 1, 8, 0, 7, 9, 1, 9, 7, 2, 7, 7, 0, 5, 3, 4, 0,\n",
       "       5, 2, 3, 0, 3, 0, 1, 9, 5, 4, 8, 2, 6, 0, 9, 7, 8, 8, 7, 3, 0, 9,\n",
       "       5, 3, 6, 3, 7, 9, 0, 5, 7, 6, 5, 3, 1, 0, 4, 3, 1, 0, 5, 3, 7, 3,\n",
       "       2, 3, 5, 0, 7, 4, 5, 3, 0, 0, 5, 7, 5, 2, 4, 2, 9, 3, 3, 0, 9, 3,\n",
       "       1, 3, 1, 7, 4, 7, 4, 5, 2, 1, 1, 4, 7, 1, 7, 5, 2, 5, 2, 5, 0, 9,\n",
       "       2, 0, 7, 6, 5, 4, 9, 1, 4, 1, 8, 0, 7, 4, 7, 1, 3, 4, 9, 5, 0, 3,\n",
       "       0, 5, 4, 3, 6, 1, 4, 3, 8, 5, 2, 7, 4, 6, 4, 8, 3, 0, 1, 5, 7, 7,\n",
       "       1, 3, 4, 8, 8, 5, 2, 2, 1, 7, 8, 3, 9, 8, 4, 4, 2, 5, 5, 0, 1, 9,\n",
       "       1, 0, 8, 1, 4, 0, 6, 9, 9, 7, 1, 4, 5, 0, 6, 2, 4, 3, 3, 4, 1, 7,\n",
       "       6, 6, 8, 3, 6, 6, 2, 0])"
      ]
     },
     "execution_count": 22,
     "metadata": {},
     "output_type": "execute_result"
    }
   ],
   "source": [
    "y_test"
   ]
  },
  {
   "cell_type": "code",
   "execution_count": 23,
   "id": "6095bff8",
   "metadata": {},
   "outputs": [],
   "source": [
    "from sklearn.metrics import accuracy_score"
   ]
  },
  {
   "cell_type": "code",
   "execution_count": 24,
   "id": "e2c1097f",
   "metadata": {},
   "outputs": [
    {
     "name": "stdout",
     "output_type": "stream",
     "text": [
      "0.8527777777777777\n"
     ]
    }
   ],
   "source": [
    "print(accuracy_score(y_test, y_pred))"
   ]
  },
  {
   "cell_type": "code",
   "execution_count": null,
   "id": "7bffd7dc",
   "metadata": {},
   "outputs": [],
   "source": []
  },
  {
   "cell_type": "code",
   "execution_count": 25,
   "id": "66b6d872",
   "metadata": {},
   "outputs": [],
   "source": [
    "# 랜덤 포레스트"
   ]
  },
  {
   "cell_type": "code",
   "execution_count": 26,
   "id": "1a012489",
   "metadata": {},
   "outputs": [],
   "source": [
    "from sklearn.ensemble import RandomForestClassifier\n",
    "\n",
    "random_forest = RandomForestClassifier(random_state=4)\n",
    "\n",
    "# https://todayisbetterthanyesterday.tistory.com/51"
   ]
  },
  {
   "cell_type": "code",
   "execution_count": 27,
   "id": "14497b99",
   "metadata": {},
   "outputs": [
    {
     "data": {
      "text/plain": [
       "RandomForestClassifier(random_state=4)"
      ]
     },
     "execution_count": 27,
     "metadata": {},
     "output_type": "execute_result"
    }
   ],
   "source": [
    "random_forest.fit(X_train, y_train)"
   ]
  },
  {
   "cell_type": "code",
   "execution_count": 28,
   "id": "e3cd99c5",
   "metadata": {},
   "outputs": [],
   "source": [
    "y_pred = random_forest.predict(X_test)"
   ]
  },
  {
   "cell_type": "code",
   "execution_count": 29,
   "id": "4cc2292b",
   "metadata": {},
   "outputs": [
    {
     "data": {
      "text/plain": [
       "array([0, 4, 1, 2, 0, 0, 8, 7, 6, 6, 3, 6, 9, 7, 4, 7, 4, 3, 2, 6, 7, 3,\n",
       "       4, 7, 1, 0, 7, 4, 8, 3, 4, 0, 5, 5, 5, 1, 2, 9, 0, 0, 0, 8, 2, 3,\n",
       "       7, 0, 1, 7, 1, 3, 8, 4, 2, 9, 6, 0, 4, 5, 4, 8, 7, 9, 9, 5, 0, 3,\n",
       "       7, 4, 9, 1, 8, 0, 9, 3, 0, 2, 7, 8, 1, 6, 9, 3, 3, 2, 2, 3, 8, 2,\n",
       "       4, 6, 9, 5, 8, 4, 7, 3, 7, 2, 5, 6, 5, 6, 1, 0, 6, 4, 8, 1, 5, 6,\n",
       "       8, 8, 8, 6, 4, 0, 2, 4, 9, 0, 8, 5, 8, 4, 7, 0, 4, 9, 0, 1, 8, 4,\n",
       "       7, 9, 6, 1, 2, 7, 1, 3, 5, 3, 5, 2, 7, 4, 9, 2, 0, 0, 9, 2, 8, 4,\n",
       "       0, 9, 7, 0, 1, 4, 1, 8, 0, 7, 9, 1, 9, 7, 2, 7, 7, 0, 5, 3, 4, 0,\n",
       "       5, 2, 3, 0, 3, 0, 1, 9, 5, 4, 8, 2, 6, 0, 9, 7, 8, 8, 7, 3, 0, 9,\n",
       "       5, 3, 6, 3, 7, 9, 0, 5, 7, 6, 5, 3, 1, 0, 4, 3, 1, 0, 5, 3, 7, 3,\n",
       "       2, 3, 5, 0, 7, 4, 5, 3, 0, 0, 5, 7, 5, 2, 4, 2, 9, 3, 3, 0, 7, 3,\n",
       "       1, 3, 1, 7, 4, 7, 4, 5, 2, 1, 1, 4, 7, 1, 7, 9, 2, 5, 2, 5, 0, 9,\n",
       "       2, 0, 7, 6, 5, 4, 3, 1, 4, 1, 8, 0, 7, 4, 7, 1, 3, 4, 3, 5, 0, 3,\n",
       "       0, 5, 4, 3, 6, 1, 4, 3, 8, 5, 2, 7, 4, 6, 4, 8, 3, 0, 1, 5, 7, 7,\n",
       "       1, 3, 4, 8, 8, 5, 2, 2, 1, 7, 8, 3, 9, 8, 4, 4, 2, 5, 5, 0, 1, 9,\n",
       "       1, 0, 8, 1, 4, 0, 6, 9, 9, 7, 1, 4, 5, 0, 8, 2, 4, 3, 3, 4, 1, 7,\n",
       "       6, 6, 8, 3, 6, 6, 2, 0])"
      ]
     },
     "execution_count": 29,
     "metadata": {},
     "output_type": "execute_result"
    }
   ],
   "source": [
    "y_pred"
   ]
  },
  {
   "cell_type": "code",
   "execution_count": 30,
   "id": "9ec36c58",
   "metadata": {
    "scrolled": true
   },
   "outputs": [
    {
     "data": {
      "text/plain": [
       "array([0, 4, 1, 2, 0, 0, 8, 7, 6, 6, 3, 6, 9, 7, 4, 7, 4, 3, 2, 6, 4, 3,\n",
       "       4, 7, 1, 0, 7, 4, 8, 3, 4, 0, 5, 5, 5, 1, 2, 9, 0, 0, 0, 8, 2, 3,\n",
       "       7, 0, 1, 7, 1, 3, 8, 4, 2, 9, 6, 0, 4, 5, 4, 4, 7, 9, 9, 5, 0, 3,\n",
       "       7, 4, 9, 1, 8, 0, 9, 3, 0, 2, 7, 8, 1, 6, 9, 3, 3, 2, 2, 3, 8, 2,\n",
       "       4, 6, 9, 5, 8, 4, 7, 3, 7, 2, 5, 6, 5, 6, 1, 0, 6, 4, 8, 1, 5, 6,\n",
       "       8, 8, 8, 6, 4, 0, 2, 7, 5, 0, 8, 5, 8, 4, 7, 0, 5, 9, 0, 1, 8, 4,\n",
       "       7, 9, 6, 1, 2, 7, 1, 3, 5, 3, 5, 2, 7, 4, 9, 2, 0, 0, 9, 2, 8, 4,\n",
       "       0, 9, 7, 0, 1, 4, 1, 8, 0, 7, 9, 1, 9, 7, 2, 7, 7, 0, 5, 3, 4, 0,\n",
       "       5, 2, 3, 0, 3, 0, 1, 9, 5, 4, 8, 2, 6, 0, 9, 7, 8, 8, 7, 3, 0, 9,\n",
       "       5, 3, 6, 3, 7, 9, 0, 5, 7, 6, 5, 3, 1, 0, 4, 3, 1, 0, 5, 3, 7, 3,\n",
       "       2, 3, 5, 0, 7, 4, 5, 3, 0, 0, 5, 7, 5, 2, 4, 2, 9, 3, 3, 0, 9, 3,\n",
       "       1, 3, 1, 7, 4, 7, 4, 5, 2, 1, 1, 4, 7, 1, 7, 5, 2, 5, 2, 5, 0, 9,\n",
       "       2, 0, 7, 6, 5, 4, 9, 1, 4, 1, 8, 0, 7, 4, 7, 1, 3, 4, 9, 5, 0, 3,\n",
       "       0, 5, 4, 3, 6, 1, 4, 3, 8, 5, 2, 7, 4, 6, 4, 8, 3, 0, 1, 5, 7, 7,\n",
       "       1, 3, 4, 8, 8, 5, 2, 2, 1, 7, 8, 3, 9, 8, 4, 4, 2, 5, 5, 0, 1, 9,\n",
       "       1, 0, 8, 1, 4, 0, 6, 9, 9, 7, 1, 4, 5, 0, 6, 2, 4, 3, 3, 4, 1, 7,\n",
       "       6, 6, 8, 3, 6, 6, 2, 0])"
      ]
     },
     "execution_count": 30,
     "metadata": {},
     "output_type": "execute_result"
    }
   ],
   "source": [
    "y_test"
   ]
  },
  {
   "cell_type": "code",
   "execution_count": 31,
   "id": "558cd80e",
   "metadata": {},
   "outputs": [
    {
     "name": "stdout",
     "output_type": "stream",
     "text": [
      "0.9722222222222222\n"
     ]
    }
   ],
   "source": [
    "print(accuracy_score(y_test,y_pred))"
   ]
  },
  {
   "cell_type": "code",
   "execution_count": null,
   "id": "5bc76ebf",
   "metadata": {},
   "outputs": [],
   "source": []
  },
  {
   "cell_type": "code",
   "execution_count": 32,
   "id": "e1268dae",
   "metadata": {},
   "outputs": [],
   "source": [
    "# SVM"
   ]
  },
  {
   "cell_type": "code",
   "execution_count": 33,
   "id": "968be3e3",
   "metadata": {},
   "outputs": [],
   "source": [
    "from sklearn.svm import LinearSVC\n",
    "\n",
    "lsvc = LinearSVC(C=1, random_state=4, max_iter=1000000)\n",
    "\n",
    "# 출처 : 내 메모장\n",
    "# https://blog.naver.com/PostView.nhn?isHttpsRedirect=true&blogId=gdpresent&logNo=221717231990&parentCategoryNo=&categoryNo=61&viewDate=&isShowPopularPosts=false&from=postView"
   ]
  },
  {
   "cell_type": "code",
   "execution_count": 34,
   "id": "f1fd53db",
   "metadata": {},
   "outputs": [
    {
     "data": {
      "text/plain": [
       "LinearSVC(C=1, max_iter=1000000, random_state=4)"
      ]
     },
     "execution_count": 34,
     "metadata": {},
     "output_type": "execute_result"
    }
   ],
   "source": [
    "lsvc.fit(X_train, y_train)"
   ]
  },
  {
   "cell_type": "code",
   "execution_count": 35,
   "id": "99a7996b",
   "metadata": {},
   "outputs": [],
   "source": [
    "y_pred = lsvc.predict(X_test)"
   ]
  },
  {
   "cell_type": "code",
   "execution_count": 36,
   "id": "2fa60722",
   "metadata": {},
   "outputs": [
    {
     "data": {
      "text/plain": [
       "array([0, 4, 1, 2, 0, 0, 8, 7, 6, 6, 3, 6, 9, 7, 4, 7, 4, 3, 2, 6, 7, 3,\n",
       "       4, 7, 1, 0, 7, 4, 8, 3, 4, 0, 5, 5, 5, 1, 2, 9, 0, 0, 0, 8, 2, 3,\n",
       "       7, 0, 1, 7, 1, 3, 8, 4, 2, 9, 6, 0, 4, 5, 4, 8, 7, 9, 9, 5, 0, 3,\n",
       "       7, 4, 9, 1, 8, 0, 9, 3, 0, 2, 7, 8, 1, 6, 9, 3, 3, 2, 2, 3, 8, 2,\n",
       "       4, 6, 9, 5, 8, 4, 7, 3, 7, 2, 5, 6, 5, 6, 8, 0, 6, 4, 8, 1, 5, 6,\n",
       "       8, 1, 8, 6, 4, 0, 2, 7, 5, 0, 8, 5, 8, 4, 7, 0, 7, 9, 0, 1, 8, 4,\n",
       "       7, 9, 6, 1, 2, 7, 1, 3, 5, 3, 9, 2, 7, 4, 9, 2, 0, 0, 9, 2, 8, 4,\n",
       "       0, 9, 7, 0, 1, 4, 1, 8, 0, 7, 9, 1, 9, 7, 2, 7, 7, 0, 5, 3, 4, 0,\n",
       "       5, 2, 8, 0, 3, 0, 1, 9, 5, 4, 8, 2, 6, 0, 9, 7, 8, 8, 7, 3, 0, 9,\n",
       "       5, 3, 6, 3, 7, 9, 0, 4, 7, 6, 5, 3, 1, 0, 4, 3, 1, 0, 5, 3, 7, 3,\n",
       "       2, 3, 5, 0, 7, 4, 5, 3, 0, 0, 5, 7, 5, 2, 4, 2, 9, 3, 3, 0, 8, 2,\n",
       "       1, 3, 1, 7, 4, 7, 4, 9, 2, 1, 1, 6, 7, 1, 7, 9, 2, 5, 2, 5, 0, 9,\n",
       "       2, 0, 7, 6, 5, 4, 5, 1, 7, 1, 7, 0, 7, 4, 7, 1, 8, 4, 9, 5, 0, 3,\n",
       "       0, 5, 1, 3, 6, 1, 4, 3, 8, 5, 2, 7, 4, 6, 4, 3, 3, 0, 1, 5, 7, 7,\n",
       "       8, 3, 4, 8, 8, 5, 2, 2, 1, 7, 8, 3, 9, 8, 4, 4, 2, 5, 5, 0, 1, 9,\n",
       "       1, 0, 8, 1, 4, 0, 6, 9, 9, 7, 1, 1, 5, 0, 0, 2, 4, 3, 3, 4, 1, 7,\n",
       "       6, 6, 8, 3, 6, 6, 2, 0])"
      ]
     },
     "execution_count": 36,
     "metadata": {},
     "output_type": "execute_result"
    }
   ],
   "source": [
    "y_pred"
   ]
  },
  {
   "cell_type": "code",
   "execution_count": 37,
   "id": "1e72aae2",
   "metadata": {},
   "outputs": [
    {
     "data": {
      "text/plain": [
       "array([0, 4, 1, 2, 0, 0, 8, 7, 6, 6, 3, 6, 9, 7, 4, 7, 4, 3, 2, 6, 4, 3,\n",
       "       4, 7, 1, 0, 7, 4, 8, 3, 4, 0, 5, 5, 5, 1, 2, 9, 0, 0, 0, 8, 2, 3,\n",
       "       7, 0, 1, 7, 1, 3, 8, 4, 2, 9, 6, 0, 4, 5, 4, 4, 7, 9, 9, 5, 0, 3,\n",
       "       7, 4, 9, 1, 8, 0, 9, 3, 0, 2, 7, 8, 1, 6, 9, 3, 3, 2, 2, 3, 8, 2,\n",
       "       4, 6, 9, 5, 8, 4, 7, 3, 7, 2, 5, 6, 5, 6, 1, 0, 6, 4, 8, 1, 5, 6,\n",
       "       8, 8, 8, 6, 4, 0, 2, 7, 5, 0, 8, 5, 8, 4, 7, 0, 5, 9, 0, 1, 8, 4,\n",
       "       7, 9, 6, 1, 2, 7, 1, 3, 5, 3, 5, 2, 7, 4, 9, 2, 0, 0, 9, 2, 8, 4,\n",
       "       0, 9, 7, 0, 1, 4, 1, 8, 0, 7, 9, 1, 9, 7, 2, 7, 7, 0, 5, 3, 4, 0,\n",
       "       5, 2, 3, 0, 3, 0, 1, 9, 5, 4, 8, 2, 6, 0, 9, 7, 8, 8, 7, 3, 0, 9,\n",
       "       5, 3, 6, 3, 7, 9, 0, 5, 7, 6, 5, 3, 1, 0, 4, 3, 1, 0, 5, 3, 7, 3,\n",
       "       2, 3, 5, 0, 7, 4, 5, 3, 0, 0, 5, 7, 5, 2, 4, 2, 9, 3, 3, 0, 9, 3,\n",
       "       1, 3, 1, 7, 4, 7, 4, 5, 2, 1, 1, 4, 7, 1, 7, 5, 2, 5, 2, 5, 0, 9,\n",
       "       2, 0, 7, 6, 5, 4, 9, 1, 4, 1, 8, 0, 7, 4, 7, 1, 3, 4, 9, 5, 0, 3,\n",
       "       0, 5, 4, 3, 6, 1, 4, 3, 8, 5, 2, 7, 4, 6, 4, 8, 3, 0, 1, 5, 7, 7,\n",
       "       1, 3, 4, 8, 8, 5, 2, 2, 1, 7, 8, 3, 9, 8, 4, 4, 2, 5, 5, 0, 1, 9,\n",
       "       1, 0, 8, 1, 4, 0, 6, 9, 9, 7, 1, 4, 5, 0, 6, 2, 4, 3, 3, 4, 1, 7,\n",
       "       6, 6, 8, 3, 6, 6, 2, 0])"
      ]
     },
     "execution_count": 37,
     "metadata": {},
     "output_type": "execute_result"
    }
   ],
   "source": [
    "y_test"
   ]
  },
  {
   "cell_type": "code",
   "execution_count": 38,
   "id": "aa34ac22",
   "metadata": {},
   "outputs": [
    {
     "name": "stdout",
     "output_type": "stream",
     "text": [
      "0.9388888888888889\n"
     ]
    }
   ],
   "source": [
    "print(accuracy_score(y_test, y_pred))"
   ]
  },
  {
   "cell_type": "code",
   "execution_count": null,
   "id": "35aa91fa",
   "metadata": {},
   "outputs": [],
   "source": []
  },
  {
   "cell_type": "code",
   "execution_count": 39,
   "id": "23e70d66",
   "metadata": {},
   "outputs": [],
   "source": [
    "# SGD Classifier"
   ]
  },
  {
   "cell_type": "code",
   "execution_count": 40,
   "id": "29192d9a",
   "metadata": {},
   "outputs": [],
   "source": [
    "from sklearn.linear_model import SGDClassifier\n",
    "\n",
    "\n",
    "sgd = SGDClassifier(random_state=4)\n"
   ]
  },
  {
   "cell_type": "code",
   "execution_count": 41,
   "id": "c7b0bd3c",
   "metadata": {},
   "outputs": [
    {
     "data": {
      "text/plain": [
       "SGDClassifier(random_state=4)"
      ]
     },
     "execution_count": 41,
     "metadata": {},
     "output_type": "execute_result"
    }
   ],
   "source": [
    "sgd.fit(X_train, y_train)"
   ]
  },
  {
   "cell_type": "code",
   "execution_count": 42,
   "id": "ed638ae6",
   "metadata": {},
   "outputs": [],
   "source": [
    "y_pred = sgd.predict(X_test)"
   ]
  },
  {
   "cell_type": "code",
   "execution_count": 43,
   "id": "217dd60a",
   "metadata": {},
   "outputs": [
    {
     "data": {
      "text/plain": [
       "array([0, 4, 1, 2, 0, 0, 8, 7, 6, 6, 3, 6, 9, 7, 4, 7, 4, 3, 2, 6, 7, 3,\n",
       "       4, 7, 1, 0, 7, 4, 8, 3, 4, 0, 5, 5, 5, 1, 2, 9, 0, 0, 0, 8, 2, 3,\n",
       "       7, 0, 1, 7, 1, 3, 8, 4, 2, 9, 6, 0, 4, 5, 4, 8, 7, 9, 8, 5, 0, 3,\n",
       "       7, 4, 9, 1, 8, 0, 9, 3, 0, 2, 7, 8, 1, 6, 9, 3, 3, 2, 2, 3, 8, 2,\n",
       "       4, 6, 9, 5, 8, 4, 7, 3, 7, 2, 5, 6, 5, 6, 1, 0, 6, 4, 8, 1, 5, 6,\n",
       "       8, 1, 8, 6, 4, 0, 2, 4, 5, 0, 8, 5, 8, 4, 7, 0, 5, 9, 0, 1, 8, 4,\n",
       "       7, 9, 6, 1, 2, 7, 1, 3, 5, 3, 5, 2, 7, 4, 9, 2, 0, 0, 9, 2, 8, 4,\n",
       "       0, 9, 7, 0, 1, 4, 1, 8, 0, 7, 9, 1, 9, 7, 2, 7, 7, 0, 5, 3, 4, 0,\n",
       "       5, 2, 8, 0, 3, 0, 1, 9, 5, 4, 8, 2, 6, 0, 9, 7, 8, 8, 7, 3, 0, 9,\n",
       "       5, 3, 6, 3, 7, 9, 0, 8, 7, 6, 5, 3, 1, 0, 4, 3, 1, 0, 5, 3, 7, 3,\n",
       "       2, 3, 5, 0, 7, 4, 5, 3, 0, 0, 5, 7, 5, 2, 4, 2, 5, 3, 3, 0, 8, 3,\n",
       "       1, 3, 1, 7, 4, 7, 4, 5, 2, 1, 1, 6, 7, 1, 7, 9, 2, 5, 2, 5, 0, 9,\n",
       "       2, 0, 7, 6, 5, 4, 5, 1, 4, 1, 8, 0, 7, 4, 7, 1, 8, 4, 9, 5, 0, 3,\n",
       "       0, 5, 1, 3, 6, 1, 4, 3, 8, 5, 2, 7, 4, 6, 4, 8, 3, 0, 1, 5, 7, 7,\n",
       "       1, 3, 4, 8, 5, 5, 2, 2, 1, 7, 8, 3, 9, 8, 4, 4, 2, 5, 5, 0, 1, 4,\n",
       "       1, 0, 8, 1, 4, 0, 6, 9, 9, 7, 1, 4, 1, 0, 8, 2, 4, 3, 3, 4, 1, 7,\n",
       "       6, 6, 8, 3, 6, 6, 2, 0])"
      ]
     },
     "execution_count": 43,
     "metadata": {},
     "output_type": "execute_result"
    }
   ],
   "source": [
    "y_pred"
   ]
  },
  {
   "cell_type": "code",
   "execution_count": 44,
   "id": "8cb94db4",
   "metadata": {},
   "outputs": [
    {
     "data": {
      "text/plain": [
       "array([0, 4, 1, 2, 0, 0, 8, 7, 6, 6, 3, 6, 9, 7, 4, 7, 4, 3, 2, 6, 4, 3,\n",
       "       4, 7, 1, 0, 7, 4, 8, 3, 4, 0, 5, 5, 5, 1, 2, 9, 0, 0, 0, 8, 2, 3,\n",
       "       7, 0, 1, 7, 1, 3, 8, 4, 2, 9, 6, 0, 4, 5, 4, 4, 7, 9, 9, 5, 0, 3,\n",
       "       7, 4, 9, 1, 8, 0, 9, 3, 0, 2, 7, 8, 1, 6, 9, 3, 3, 2, 2, 3, 8, 2,\n",
       "       4, 6, 9, 5, 8, 4, 7, 3, 7, 2, 5, 6, 5, 6, 1, 0, 6, 4, 8, 1, 5, 6,\n",
       "       8, 8, 8, 6, 4, 0, 2, 7, 5, 0, 8, 5, 8, 4, 7, 0, 5, 9, 0, 1, 8, 4,\n",
       "       7, 9, 6, 1, 2, 7, 1, 3, 5, 3, 5, 2, 7, 4, 9, 2, 0, 0, 9, 2, 8, 4,\n",
       "       0, 9, 7, 0, 1, 4, 1, 8, 0, 7, 9, 1, 9, 7, 2, 7, 7, 0, 5, 3, 4, 0,\n",
       "       5, 2, 3, 0, 3, 0, 1, 9, 5, 4, 8, 2, 6, 0, 9, 7, 8, 8, 7, 3, 0, 9,\n",
       "       5, 3, 6, 3, 7, 9, 0, 5, 7, 6, 5, 3, 1, 0, 4, 3, 1, 0, 5, 3, 7, 3,\n",
       "       2, 3, 5, 0, 7, 4, 5, 3, 0, 0, 5, 7, 5, 2, 4, 2, 9, 3, 3, 0, 9, 3,\n",
       "       1, 3, 1, 7, 4, 7, 4, 5, 2, 1, 1, 4, 7, 1, 7, 5, 2, 5, 2, 5, 0, 9,\n",
       "       2, 0, 7, 6, 5, 4, 9, 1, 4, 1, 8, 0, 7, 4, 7, 1, 3, 4, 9, 5, 0, 3,\n",
       "       0, 5, 4, 3, 6, 1, 4, 3, 8, 5, 2, 7, 4, 6, 4, 8, 3, 0, 1, 5, 7, 7,\n",
       "       1, 3, 4, 8, 8, 5, 2, 2, 1, 7, 8, 3, 9, 8, 4, 4, 2, 5, 5, 0, 1, 9,\n",
       "       1, 0, 8, 1, 4, 0, 6, 9, 9, 7, 1, 4, 5, 0, 6, 2, 4, 3, 3, 4, 1, 7,\n",
       "       6, 6, 8, 3, 6, 6, 2, 0])"
      ]
     },
     "execution_count": 44,
     "metadata": {},
     "output_type": "execute_result"
    }
   ],
   "source": [
    "y_test"
   ]
  },
  {
   "cell_type": "code",
   "execution_count": 45,
   "id": "5b720954",
   "metadata": {},
   "outputs": [
    {
     "name": "stdout",
     "output_type": "stream",
     "text": [
      "0.95\n"
     ]
    }
   ],
   "source": [
    "print(accuracy_score(y_test, y_pred))"
   ]
  },
  {
   "cell_type": "code",
   "execution_count": null,
   "id": "f45bd705",
   "metadata": {},
   "outputs": [],
   "source": []
  },
  {
   "cell_type": "code",
   "execution_count": 46,
   "id": "aae8e1a1",
   "metadata": {},
   "outputs": [],
   "source": [
    "# 로지스틱 회귀"
   ]
  },
  {
   "cell_type": "code",
   "execution_count": 47,
   "id": "f065112e",
   "metadata": {},
   "outputs": [],
   "source": [
    "from sklearn.linear_model import LogisticRegression \n",
    "\n",
    "lr = LogisticRegression(random_state=4, max_iter=1000000)\n",
    "\n",
    "# 출처 : 내 메모장"
   ]
  },
  {
   "cell_type": "code",
   "execution_count": 48,
   "id": "8c8dc77e",
   "metadata": {},
   "outputs": [
    {
     "data": {
      "text/plain": [
       "LogisticRegression(max_iter=1000000, random_state=4)"
      ]
     },
     "execution_count": 48,
     "metadata": {},
     "output_type": "execute_result"
    }
   ],
   "source": [
    "lr.fit(X_train, y_train)"
   ]
  },
  {
   "cell_type": "code",
   "execution_count": 49,
   "id": "e9a3d8ec",
   "metadata": {},
   "outputs": [],
   "source": [
    "y_pred = lr.predict(X_test)"
   ]
  },
  {
   "cell_type": "code",
   "execution_count": 50,
   "id": "4bf8cd4b",
   "metadata": {},
   "outputs": [
    {
     "data": {
      "text/plain": [
       "array([0, 4, 1, 2, 0, 0, 8, 7, 6, 6, 3, 6, 8, 7, 4, 7, 4, 3, 2, 6, 7, 3,\n",
       "       4, 7, 1, 0, 7, 4, 8, 3, 4, 0, 5, 5, 5, 1, 2, 9, 0, 0, 0, 8, 2, 3,\n",
       "       7, 0, 1, 7, 1, 3, 8, 4, 2, 9, 6, 0, 4, 5, 4, 8, 7, 9, 9, 5, 0, 3,\n",
       "       7, 4, 9, 1, 8, 0, 9, 3, 0, 2, 7, 8, 1, 1, 9, 3, 3, 2, 2, 3, 8, 2,\n",
       "       4, 6, 9, 5, 8, 4, 7, 3, 7, 2, 5, 6, 5, 6, 1, 0, 6, 4, 8, 1, 5, 6,\n",
       "       8, 8, 8, 6, 4, 0, 2, 7, 5, 0, 8, 5, 8, 4, 7, 0, 5, 9, 0, 1, 8, 4,\n",
       "       7, 9, 6, 1, 2, 7, 1, 3, 5, 3, 9, 2, 7, 4, 9, 2, 0, 0, 9, 2, 8, 4,\n",
       "       0, 9, 7, 0, 1, 4, 1, 8, 0, 7, 9, 1, 9, 7, 2, 7, 7, 0, 5, 3, 4, 0,\n",
       "       5, 2, 3, 0, 3, 0, 1, 9, 5, 1, 8, 2, 6, 0, 9, 7, 8, 8, 7, 3, 0, 9,\n",
       "       9, 3, 6, 3, 7, 9, 0, 4, 7, 6, 5, 3, 1, 0, 4, 3, 1, 0, 5, 3, 7, 3,\n",
       "       2, 3, 5, 0, 7, 4, 5, 3, 0, 0, 5, 7, 5, 2, 4, 2, 9, 3, 3, 0, 8, 3,\n",
       "       1, 3, 1, 7, 4, 7, 4, 9, 2, 1, 1, 4, 7, 1, 7, 9, 2, 5, 2, 5, 0, 9,\n",
       "       2, 0, 7, 6, 5, 4, 5, 1, 4, 1, 7, 0, 7, 4, 7, 1, 2, 4, 9, 5, 0, 3,\n",
       "       0, 5, 1, 3, 6, 1, 4, 3, 8, 5, 2, 7, 4, 6, 4, 8, 3, 0, 1, 5, 7, 7,\n",
       "       1, 3, 4, 8, 8, 5, 2, 2, 1, 7, 8, 3, 9, 8, 4, 4, 2, 5, 5, 0, 1, 7,\n",
       "       1, 0, 8, 1, 4, 0, 6, 9, 9, 7, 1, 1, 1, 0, 8, 2, 4, 3, 3, 4, 1, 7,\n",
       "       6, 6, 8, 3, 6, 6, 2, 0])"
      ]
     },
     "execution_count": 50,
     "metadata": {},
     "output_type": "execute_result"
    }
   ],
   "source": [
    "y_pred"
   ]
  },
  {
   "cell_type": "code",
   "execution_count": 51,
   "id": "4617547b",
   "metadata": {},
   "outputs": [
    {
     "data": {
      "text/plain": [
       "array([0, 4, 1, 2, 0, 0, 8, 7, 6, 6, 3, 6, 9, 7, 4, 7, 4, 3, 2, 6, 4, 3,\n",
       "       4, 7, 1, 0, 7, 4, 8, 3, 4, 0, 5, 5, 5, 1, 2, 9, 0, 0, 0, 8, 2, 3,\n",
       "       7, 0, 1, 7, 1, 3, 8, 4, 2, 9, 6, 0, 4, 5, 4, 4, 7, 9, 9, 5, 0, 3,\n",
       "       7, 4, 9, 1, 8, 0, 9, 3, 0, 2, 7, 8, 1, 6, 9, 3, 3, 2, 2, 3, 8, 2,\n",
       "       4, 6, 9, 5, 8, 4, 7, 3, 7, 2, 5, 6, 5, 6, 1, 0, 6, 4, 8, 1, 5, 6,\n",
       "       8, 8, 8, 6, 4, 0, 2, 7, 5, 0, 8, 5, 8, 4, 7, 0, 5, 9, 0, 1, 8, 4,\n",
       "       7, 9, 6, 1, 2, 7, 1, 3, 5, 3, 5, 2, 7, 4, 9, 2, 0, 0, 9, 2, 8, 4,\n",
       "       0, 9, 7, 0, 1, 4, 1, 8, 0, 7, 9, 1, 9, 7, 2, 7, 7, 0, 5, 3, 4, 0,\n",
       "       5, 2, 3, 0, 3, 0, 1, 9, 5, 4, 8, 2, 6, 0, 9, 7, 8, 8, 7, 3, 0, 9,\n",
       "       5, 3, 6, 3, 7, 9, 0, 5, 7, 6, 5, 3, 1, 0, 4, 3, 1, 0, 5, 3, 7, 3,\n",
       "       2, 3, 5, 0, 7, 4, 5, 3, 0, 0, 5, 7, 5, 2, 4, 2, 9, 3, 3, 0, 9, 3,\n",
       "       1, 3, 1, 7, 4, 7, 4, 5, 2, 1, 1, 4, 7, 1, 7, 5, 2, 5, 2, 5, 0, 9,\n",
       "       2, 0, 7, 6, 5, 4, 9, 1, 4, 1, 8, 0, 7, 4, 7, 1, 3, 4, 9, 5, 0, 3,\n",
       "       0, 5, 4, 3, 6, 1, 4, 3, 8, 5, 2, 7, 4, 6, 4, 8, 3, 0, 1, 5, 7, 7,\n",
       "       1, 3, 4, 8, 8, 5, 2, 2, 1, 7, 8, 3, 9, 8, 4, 4, 2, 5, 5, 0, 1, 9,\n",
       "       1, 0, 8, 1, 4, 0, 6, 9, 9, 7, 1, 4, 5, 0, 6, 2, 4, 3, 3, 4, 1, 7,\n",
       "       6, 6, 8, 3, 6, 6, 2, 0])"
      ]
     },
     "execution_count": 51,
     "metadata": {},
     "output_type": "execute_result"
    }
   ],
   "source": [
    "y_test"
   ]
  },
  {
   "cell_type": "code",
   "execution_count": 52,
   "id": "bd03ec34",
   "metadata": {},
   "outputs": [
    {
     "name": "stdout",
     "output_type": "stream",
     "text": [
      "0.9472222222222222\n"
     ]
    }
   ],
   "source": [
    "print(accuracy_score(y_test, y_pred))"
   ]
  },
  {
   "cell_type": "code",
   "execution_count": null,
   "id": "3d7f884d",
   "metadata": {},
   "outputs": [],
   "source": []
  },
  {
   "cell_type": "code",
   "execution_count": 53,
   "id": "31eb989f",
   "metadata": {},
   "outputs": [],
   "source": [
    "# 수치상으로만 보았을 경우 Random Forest 분류가 가장 정확도가 높았다.\n",
    "# 그에 비해 Random Forest의 기반이였던 Decision Tree의 경우는 가장 낮았는데\n",
    "# 그 둘의 차이를 직접 코딩하며 결과값을 보고 비교할 수 있어서 좋은 경험이였다.\n",
    "\n",
    "# random_state를 모두 4로 고정시키긴 했으나 다른 값일 경우 또 다른 결과값이 나올것이고,\n",
    "# 그 결과값들이 쌓이면 더욱 정교한 데이터 분석이 될 것이라 생각한다\n",
    "\n",
    "# 조금 의외라고 생각했던것은 SVM 방식과 로지스틱 방식은 훈련의 횟수를 지정해 주었으나 정확도가 높지 않았다.\n",
    "# 지정해준 수치가 적었던것인지는 아직 잘 모르곘다.\n",
    "\n",
    "# 마지막으로 모델의 성능을 평가하는 지표로 가장 적절하다고 생각한것은 RandomForest이다.\n",
    "# 테스트 데이터와 가장 유사한 결과값을 가졌고, 데이터 양이 많아져도 크게 변함없을 것 같기 때문이다."
   ]
  },
  {
   "cell_type": "code",
   "execution_count": null,
   "id": "628970e5",
   "metadata": {},
   "outputs": [],
   "source": []
  },
  {
   "cell_type": "code",
   "execution_count": null,
   "id": "ba97315c",
   "metadata": {},
   "outputs": [],
   "source": []
  }
 ],
 "metadata": {
  "kernelspec": {
   "display_name": "Python 3 (ipykernel)",
   "language": "python",
   "name": "python3"
  },
  "language_info": {
   "codemirror_mode": {
    "name": "ipython",
    "version": 3
   },
   "file_extension": ".py",
   "mimetype": "text/x-python",
   "name": "python",
   "nbconvert_exporter": "python",
   "pygments_lexer": "ipython3",
   "version": "3.9.7"
  }
 },
 "nbformat": 4,
 "nbformat_minor": 5
}
